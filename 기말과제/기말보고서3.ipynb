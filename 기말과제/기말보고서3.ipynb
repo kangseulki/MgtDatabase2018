{
 "cells": [
  {
   "cell_type": "code",
   "execution_count": 3,
   "metadata": {},
   "outputs": [],
   "source": [
    "import pandas as pd\n",
    "import xlrd as xl\n",
    "import numpy as np\n",
    "import scipy as sp\n",
    "import matplotlib.pyplot as plt\n",
    "import matplotlib.legend as legend"
   ]
  },
  {
   "cell_type": "code",
   "execution_count": 4,
   "metadata": {},
   "outputs": [],
   "source": [
    "import platform\n",
    "\n",
    "from matplotlib import font_manager, rc\n",
    "plt.rcParams['axes.unicode_minus'] = False\n",
    "\n",
    "if platform.system() == 'Darwin':\n",
    "    rc('font', family='AppleGothic')\n",
    "elif platform.system() == 'Windows':\n",
    "    path = \"c:/Windows/Fonts/malgun.ttf\"\n",
    "    font_name = font_manager.FontProperties(fname=path).get_name()\n",
    "    rc('font', family=font_name)\n",
    "else:\n",
    "    print('Unknown system... sorry~~~~') "
   ]
  },
  {
   "cell_type": "markdown",
   "metadata": {},
   "source": [
    " \n"
   ]
  },
  {
   "cell_type": "markdown",
   "metadata": {},
   "source": [
    "## 2. 경쟁사 대응\n",
    "\n",
    "\n",
    "전략적 매장 운영에 내부적 요소만이 고려될 수 있는 점은 아니다. 경쟁사 정보를 활용하여 효과적으로 경쟁사들로 인한 매출하락을 방지할 수 있다.\n"
   ]
  },
  {
   "cell_type": "markdown",
   "metadata": {},
   "source": [
    " "
   ]
  },
  {
   "cell_type": "markdown",
   "metadata": {},
   "source": [
    "### 2.1. 경쟁사 거리에 따른 매출\n",
    "\n",
    "경쟁사의 거리가 매장의 매출에 영향을 주는 지 알아보고자 한다. \n",
    "이를 위해 각 매장의 평균월별매출과 가장 가까운 경쟁사의 거리를 상관관계를 통하여 비교한다."
   ]
  },
  {
   "cell_type": "code",
   "execution_count": 5,
   "metadata": {},
   "outputs": [
    {
     "data": {
      "text/html": [
       "<div>\n",
       "<style scoped>\n",
       "    .dataframe tbody tr th:only-of-type {\n",
       "        vertical-align: middle;\n",
       "    }\n",
       "\n",
       "    .dataframe tbody tr th {\n",
       "        vertical-align: top;\n",
       "    }\n",
       "\n",
       "    .dataframe thead th {\n",
       "        text-align: right;\n",
       "    }\n",
       "</style>\n",
       "<table border=\"1\" class=\"dataframe\">\n",
       "  <thead>\n",
       "    <tr style=\"text-align: right;\">\n",
       "      <th></th>\n",
       "      <th>Store</th>\n",
       "      <th>Assortment</th>\n",
       "      <th>월별매출</th>\n",
       "      <th>CompetitionDistance</th>\n",
       "    </tr>\n",
       "  </thead>\n",
       "  <tbody>\n",
       "    <tr>\n",
       "      <th>0</th>\n",
       "      <td>1</td>\n",
       "      <td>a</td>\n",
       "      <td>119898.516129</td>\n",
       "      <td>1270</td>\n",
       "    </tr>\n",
       "    <tr>\n",
       "      <th>1</th>\n",
       "      <td>2</td>\n",
       "      <td>a</td>\n",
       "      <td>125285.741935</td>\n",
       "      <td>570</td>\n",
       "    </tr>\n",
       "    <tr>\n",
       "      <th>2</th>\n",
       "      <td>3</td>\n",
       "      <td>a</td>\n",
       "      <td>174460.032258</td>\n",
       "      <td>14130</td>\n",
       "    </tr>\n",
       "    <tr>\n",
       "      <th>3</th>\n",
       "      <td>4</td>\n",
       "      <td>c</td>\n",
       "      <td>243758.290323</td>\n",
       "      <td>620</td>\n",
       "    </tr>\n",
       "    <tr>\n",
       "      <th>4</th>\n",
       "      <td>5</td>\n",
       "      <td>a</td>\n",
       "      <td>117510.258065</td>\n",
       "      <td>29910</td>\n",
       "    </tr>\n",
       "  </tbody>\n",
       "</table>\n",
       "</div>"
      ],
      "text/plain": [
       "   Store Assortment           월별매출  CompetitionDistance\n",
       "0      1          a  119898.516129                 1270\n",
       "1      2          a  125285.741935                  570\n",
       "2      3          a  174460.032258                14130\n",
       "3      4          c  243758.290323                  620\n",
       "4      5          a  117510.258065                29910"
      ]
     },
     "execution_count": 5,
     "metadata": {},
     "output_type": "execute_result"
    }
   ],
   "source": [
    "#경쟁사거리와 매출 파일은 Store별로 총평균매출과 경쟁사거리를 원본파일에서 추출하여 1차가공한 파일이다.\n",
    "\n",
    "SimpleD=pd.read_excel('경쟁사거리와 매출.xlsx')\n",
    "SimpleD.head()"
   ]
  },
  {
   "cell_type": "markdown",
   "metadata": {},
   "source": [
    "주변에 가까운 경쟁사가 있을수록 매출이 하락하는 추세와 같은 현상을 보일 것으로 추측하였다."
   ]
  },
  {
   "cell_type": "code",
   "execution_count": 6,
   "metadata": {},
   "outputs": [
    {
     "data": {
      "text/plain": [
       "array([[1.        , 0.03200163],\n",
       "       [0.03200163, 1.        ]])"
      ]
     },
     "execution_count": 6,
     "metadata": {},
     "output_type": "execute_result"
    }
   ],
   "source": [
    "np.corrcoef(SimpleD[\"월별매출\"], SimpleD[\"CompetitionDistance\"])"
   ]
  },
  {
   "cell_type": "markdown",
   "metadata": {},
   "source": [
    "그러나 예상과는 달리 상관관계에 따르면 두 변수의 사이에서 상관관계가 없는 것으로 판단된다."
   ]
  },
  {
   "cell_type": "code",
   "execution_count": 7,
   "metadata": {},
   "outputs": [
    {
     "data": {
      "image/png": "[encoded data removed]",
      "text/plain": [
       "<Figure size 432x432 with 1 Axes>"
      ]
     },
     "metadata": {},
     "output_type": "display_data"
    }
   ],
   "source": [
    "plt.figure(figsize=(6,6))\n",
    "plt.scatter(SimpleD['월별매출'], SimpleD['CompetitionDistance'], s=50)\n",
    "plt.xlabel('월별매출')\n",
    "plt.ylabel('CompetitionDistance')\n",
    "plt.title(\"매출과 경쟁사 거리의 상관관계 산점도\")\n",
    "plt.grid()\n",
    "plt.show()"
   ]
  },
  {
   "cell_type": "markdown",
   "metadata": {},
   "source": [
    "산점도로 보아도 특별한 규칙을 찾아볼 수 없다.\n",
    "\n",
    "결론)\n",
    "\n",
    "    경쟁사 매장과의 거리 차이 자체는 매출에 영향을 주지 않는다.\n"
   ]
  },
  {
   "cell_type": "markdown",
   "metadata": {},
   "source": [
    " "
   ]
  },
  {
   "cell_type": "markdown",
   "metadata": {},
   "source": [
    " "
   ]
  },
  {
   "cell_type": "markdown",
   "metadata": {},
   "source": [
    " "
   ]
  },
  {
   "cell_type": "markdown",
   "metadata": {},
   "source": [
    "### 2.2 경쟁사의 신규매장 출현에 따른 매출 분석\n",
    "\n",
    "데이터 기간동안(2013.01.01~2015.07.31) 경쟁사가 주변에 신규 오픈한 매장만을 추출하여 매출의 변화를 알아보려고 한다. 단순한 경쟁사의 거리보다는 이와 같은 방법이 경쟁사의 신규매장 오픈이 주는 직접적인 영향을 파악할 수 있을 것이다."
   ]
  },
  {
   "cell_type": "markdown",
   "metadata": {},
   "source": [
    " "
   ]
  },
  {
   "cell_type": "code",
   "execution_count": 8,
   "metadata": {},
   "outputs": [
    {
     "data": {
      "text/html": [
       "<div>\n",
       "<style scoped>\n",
       "    .dataframe tbody tr th:only-of-type {\n",
       "        vertical-align: middle;\n",
       "    }\n",
       "\n",
       "    .dataframe tbody tr th {\n",
       "        vertical-align: top;\n",
       "    }\n",
       "\n",
       "    .dataframe thead th {\n",
       "        text-align: right;\n",
       "    }\n",
       "</style>\n",
       "<table border=\"1\" class=\"dataframe\">\n",
       "  <thead>\n",
       "    <tr style=\"text-align: right;\">\n",
       "      <th></th>\n",
       "      <th>Store</th>\n",
       "      <th>전 후 차이</th>\n",
       "    </tr>\n",
       "  </thead>\n",
       "  <tbody>\n",
       "    <tr>\n",
       "      <th>0</th>\n",
       "      <td>5</td>\n",
       "      <td>-1309.666667</td>\n",
       "    </tr>\n",
       "    <tr>\n",
       "      <th>1</th>\n",
       "      <td>6</td>\n",
       "      <td>31746.334928</td>\n",
       "    </tr>\n",
       "    <tr>\n",
       "      <th>2</th>\n",
       "      <td>7</td>\n",
       "      <td>-34569.666667</td>\n",
       "    </tr>\n",
       "    <tr>\n",
       "      <th>3</th>\n",
       "      <td>8</td>\n",
       "      <td>-30581.873016</td>\n",
       "    </tr>\n",
       "    <tr>\n",
       "      <th>4</th>\n",
       "      <td>14</td>\n",
       "      <td>-4750.151786</td>\n",
       "    </tr>\n",
       "  </tbody>\n",
       "</table>\n",
       "</div>"
      ],
      "text/plain": [
       "   Store        전 후 차이\n",
       "0      5  -1309.666667\n",
       "1      6  31746.334928\n",
       "2      7 -34569.666667\n",
       "3      8 -30581.873016\n",
       "4     14  -4750.151786"
      ]
     },
     "execution_count": 8,
     "metadata": {},
     "output_type": "execute_result"
    }
   ],
   "source": [
    "#전후차이 파일은 경쟁사가 오픈한 달을 기준으로 매장별 평균 매출을 추출, 차이까지 1차 가공한 데이터 파일이다. \n",
    "#데이터 가공 절차가 너무 복잡하여 엑셀로 많은 단계의 가공 처리를 할 수 밖에 없었던 점이 매우 아쉬웠다.\n",
    "\n",
    "AA=pd.read_excel('전후차이.xlsx')\n",
    "AA.head()"
   ]
  },
  {
   "cell_type": "markdown",
   "metadata": {},
   "source": [
    "경쟁사의 신규 매장이 오픈한 이후의 평균매출에서 오픈 전 평균 매출을 제하여 차이값을 구하였다. 이를 시각적으로 나타내면,"
   ]
  },
  {
   "cell_type": "code",
   "execution_count": 9,
   "metadata": {},
   "outputs": [
    {
     "data": {
      "image/png": "[encoded data removed]",
      "text/plain": [
       "<Figure size 864x504 with 1 Axes>"
      ]
     },
     "metadata": {},
     "output_type": "display_data"
    }
   ],
   "source": [
    "plt.figure(figsize=(12,7))\n",
    "plt.scatter(AA['Store'], AA['전 후 차이'], s=100)\n",
    "plt.xlabel('Store')\n",
    "plt.ylabel('전 후 차이')\n",
    "plt.title(\"경쟁사 오픈 전후 매장 매출 차이\")\n",
    "plt.grid()\n",
    "plt.show()"
   ]
  },
  {
   "cell_type": "code",
   "execution_count": 10,
   "metadata": {},
   "outputs": [],
   "source": [
    "AA.set_index(\"Store\", inplace=True)"
   ]
  },
  {
   "cell_type": "code",
   "execution_count": 11,
   "metadata": {},
   "outputs": [
    {
     "data": {
      "image/png": "[encoded data removed]",
      "text/plain": [
       "<Figure size 864x288 with 1 Axes>"
      ]
     },
     "metadata": {},
     "output_type": "display_data"
    }
   ],
   "source": [
    "ax = AA.plot(kind='bar', title='차이', figsize=(12, 4), fontsize=12)\n",
    "ax.set_xlabel('Store', fontsize=12)          # x축 정보 표시\n",
    "ax.set_ylabel('전 후 차이', fontsize=12)     # y축 정보 표시\n",
    "ax.legend(['Store'], fontsize=12)\n",
    "plt.show()"
   ]
  },
  {
   "cell_type": "markdown",
   "metadata": {},
   "source": [
    "위의 두 그래프가 도출된다. 단순 거리비교와 같이 유의미한 해석을 찾을 수 없다. \n"
   ]
  },
  {
   "cell_type": "markdown",
   "metadata": {},
   "source": [
    " "
   ]
  },
  {
   "cell_type": "markdown",
   "metadata": {},
   "source": [
    "\n",
    "결론)\n",
    "   \n",
    "    신규 경쟁사의 등장 자체가 매출에 영향을 주지 않는다. \n",
    "    \n",
    "한계)\n",
    "\n",
    "    신규 경쟁사의 위치 정보와 지리적 정보가 없어서 이에 대해 더욱 깊게 분석할 수 없었다. "
   ]
  },
  {
   "cell_type": "markdown",
   "metadata": {},
   "source": [
    " "
   ]
  },
  {
   "cell_type": "markdown",
   "metadata": {},
   "source": [
    " "
   ]
  },
  {
   "cell_type": "markdown",
   "metadata": {},
   "source": [
    "### 2.3 경쟁사의 신규매장 거리와 Rossmann 매장 타입에 따른 매출 분석\n",
    "\n",
    "그렇다면 단순히 경쟁사 거리와 신규매장의 등장으로 경쟁사의 영향을 파악하는 것이 아니라, Rossmann 매장의 특성들로 분석한다면\n",
    "좀 더 유의미한 분석결과를 얻을 수 있을 것으로 추측된다.\n",
    "\n",
    "데이터 기간동안(2013.01.01~2015.07.31) 경쟁사의 신규 매장이 오픈한 후 Rossmann의 assortment 타입과 경쟁사 거리에 따라 매출이 어떤 추세를 보이는지 알아볼 것이다."
   ]
  },
  {
   "cell_type": "code",
   "execution_count": 12,
   "metadata": {},
   "outputs": [],
   "source": [
    "# 데이터 기간동안(2013.01.01~2015.07.31) 경쟁사가 주변에 신규 오픈한 매장정보를 불러온다.\n",
    "# assortment 타입은 물품구색에 따라 a = 기본형, c = 확장형이다. \n",
    "# 중도에 경쟁사가 오픈한 지점들 중 assortment타입이 a인 정보가 Atype, c인 정보가 Ctype이다. \n",
    "# 중도경쟁사A와 중도경쟁사C 파일은 필요한 Store206의 항목과 Train206의 항목을 추출하여 1차 가공,\n",
    "# 이후 중도에 경쟁사가 오픈한 전 후에 따라 평균매출을 엑셀로 2차 가공한 파일이다.\n",
    "\n",
    "Atype=pd.read_excel('중도경쟁사A.xlsx')\n",
    "Ctype=pd.read_excel('중도경쟁사C.xlsx')"
   ]
  },
  {
   "cell_type": "code",
   "execution_count": 13,
   "metadata": {},
   "outputs": [
    {
     "data": {
      "text/html": [
       "<div>\n",
       "<style scoped>\n",
       "    .dataframe tbody tr th:only-of-type {\n",
       "        vertical-align: middle;\n",
       "    }\n",
       "\n",
       "    .dataframe tbody tr th {\n",
       "        vertical-align: top;\n",
       "    }\n",
       "\n",
       "    .dataframe thead th {\n",
       "        text-align: right;\n",
       "    }\n",
       "</style>\n",
       "<table border=\"1\" class=\"dataframe\">\n",
       "  <thead>\n",
       "    <tr style=\"text-align: right;\">\n",
       "      <th></th>\n",
       "      <th>assortment</th>\n",
       "      <th>Store</th>\n",
       "      <th>오픈 전 매출</th>\n",
       "      <th>오픈 전 개월수</th>\n",
       "      <th>오픈 달 매출</th>\n",
       "      <th>오픈 후 매출</th>\n",
       "      <th>오픈 후 개월수</th>\n",
       "      <th>오픈전 평균매출</th>\n",
       "      <th>오픈후 평균매출</th>\n",
       "      <th>경쟁사거리</th>\n",
       "    </tr>\n",
       "  </thead>\n",
       "  <tbody>\n",
       "    <tr>\n",
       "      <th>0</th>\n",
       "      <td>a</td>\n",
       "      <td>30</td>\n",
       "      <td>1957541</td>\n",
       "      <td>13</td>\n",
       "      <td>136447</td>\n",
       "      <td>2020058</td>\n",
       "      <td>17</td>\n",
       "      <td>150580.076923</td>\n",
       "      <td>118826.941176</td>\n",
       "      <td>40</td>\n",
       "    </tr>\n",
       "    <tr>\n",
       "      <th>1</th>\n",
       "      <td>a</td>\n",
       "      <td>133</td>\n",
       "      <td>1307433</td>\n",
       "      <td>7</td>\n",
       "      <td>171622</td>\n",
       "      <td>3578733</td>\n",
       "      <td>23</td>\n",
       "      <td>186776.142857</td>\n",
       "      <td>155597.086957</td>\n",
       "      <td>270</td>\n",
       "    </tr>\n",
       "    <tr>\n",
       "      <th>2</th>\n",
       "      <td>a</td>\n",
       "      <td>6</td>\n",
       "      <td>1733507</td>\n",
       "      <td>11</td>\n",
       "      <td>173192</td>\n",
       "      <td>2391059</td>\n",
       "      <td>19</td>\n",
       "      <td>157591.545455</td>\n",
       "      <td>125845.210526</td>\n",
       "      <td>310</td>\n",
       "    </tr>\n",
       "    <tr>\n",
       "      <th>3</th>\n",
       "      <td>a</td>\n",
       "      <td>116</td>\n",
       "      <td>586615</td>\n",
       "      <td>3</td>\n",
       "      <td>197031</td>\n",
       "      <td>4927983</td>\n",
       "      <td>27</td>\n",
       "      <td>195538.333333</td>\n",
       "      <td>182517.888889</td>\n",
       "      <td>680</td>\n",
       "    </tr>\n",
       "    <tr>\n",
       "      <th>4</th>\n",
       "      <td>a</td>\n",
       "      <td>131</td>\n",
       "      <td>3978846</td>\n",
       "      <td>30</td>\n",
       "      <td>130694</td>\n",
       "      <td>130694</td>\n",
       "      <td>0</td>\n",
       "      <td>132628.200000</td>\n",
       "      <td>130694.000000</td>\n",
       "      <td>920</td>\n",
       "    </tr>\n",
       "    <tr>\n",
       "      <th>5</th>\n",
       "      <td>a</td>\n",
       "      <td>169</td>\n",
       "      <td>3515196</td>\n",
       "      <td>18</td>\n",
       "      <td>237850</td>\n",
       "      <td>1776653</td>\n",
       "      <td>12</td>\n",
       "      <td>195288.666667</td>\n",
       "      <td>148054.416667</td>\n",
       "      <td>980</td>\n",
       "    </tr>\n",
       "    <tr>\n",
       "      <th>6</th>\n",
       "      <td>a</td>\n",
       "      <td>170</td>\n",
       "      <td>3581425</td>\n",
       "      <td>28</td>\n",
       "      <td>102648</td>\n",
       "      <td>218282</td>\n",
       "      <td>2</td>\n",
       "      <td>127908.035714</td>\n",
       "      <td>109141.000000</td>\n",
       "      <td>1070</td>\n",
       "    </tr>\n",
       "    <tr>\n",
       "      <th>7</th>\n",
       "      <td>a</td>\n",
       "      <td>191</td>\n",
       "      <td>1305058</td>\n",
       "      <td>7</td>\n",
       "      <td>158690</td>\n",
       "      <td>2790071</td>\n",
       "      <td>17</td>\n",
       "      <td>186436.857143</td>\n",
       "      <td>164121.823529</td>\n",
       "      <td>1100</td>\n",
       "    </tr>\n",
       "    <tr>\n",
       "      <th>8</th>\n",
       "      <td>a</td>\n",
       "      <td>28</td>\n",
       "      <td>2888924</td>\n",
       "      <td>21</td>\n",
       "      <td>119427</td>\n",
       "      <td>1072599</td>\n",
       "      <td>9</td>\n",
       "      <td>137567.809524</td>\n",
       "      <td>119177.666667</td>\n",
       "      <td>1200</td>\n",
       "    </tr>\n",
       "    <tr>\n",
       "      <th>9</th>\n",
       "      <td>a</td>\n",
       "      <td>14</td>\n",
       "      <td>1899391</td>\n",
       "      <td>14</td>\n",
       "      <td>145048</td>\n",
       "      <td>2246735</td>\n",
       "      <td>16</td>\n",
       "      <td>135670.785714</td>\n",
       "      <td>140420.937500</td>\n",
       "      <td>1300</td>\n",
       "    </tr>\n",
       "    <tr>\n",
       "      <th>10</th>\n",
       "      <td>a</td>\n",
       "      <td>106</td>\n",
       "      <td>1516570</td>\n",
       "      <td>7</td>\n",
       "      <td>224476</td>\n",
       "      <td>4977289</td>\n",
       "      <td>23</td>\n",
       "      <td>216652.857143</td>\n",
       "      <td>216403.869565</td>\n",
       "      <td>1390</td>\n",
       "    </tr>\n",
       "    <tr>\n",
       "      <th>11</th>\n",
       "      <td>a</td>\n",
       "      <td>137</td>\n",
       "      <td>4942367</td>\n",
       "      <td>24</td>\n",
       "      <td>204672</td>\n",
       "      <td>204672</td>\n",
       "      <td>0</td>\n",
       "      <td>205931.958333</td>\n",
       "      <td>130694.000000</td>\n",
       "      <td>1730</td>\n",
       "    </tr>\n",
       "    <tr>\n",
       "      <th>12</th>\n",
       "      <td>a</td>\n",
       "      <td>95</td>\n",
       "      <td>4153809</td>\n",
       "      <td>21</td>\n",
       "      <td>172213</td>\n",
       "      <td>1632042</td>\n",
       "      <td>9</td>\n",
       "      <td>197800.428571</td>\n",
       "      <td>181338.000000</td>\n",
       "      <td>1890</td>\n",
       "    </tr>\n",
       "    <tr>\n",
       "      <th>13</th>\n",
       "      <td>a</td>\n",
       "      <td>120</td>\n",
       "      <td>4085290</td>\n",
       "      <td>23</td>\n",
       "      <td>203623</td>\n",
       "      <td>1264077</td>\n",
       "      <td>7</td>\n",
       "      <td>177621.304348</td>\n",
       "      <td>180582.428571</td>\n",
       "      <td>2290</td>\n",
       "    </tr>\n",
       "    <tr>\n",
       "      <th>14</th>\n",
       "      <td>a</td>\n",
       "      <td>126</td>\n",
       "      <td>3667175</td>\n",
       "      <td>21</td>\n",
       "      <td>131868</td>\n",
       "      <td>1270497</td>\n",
       "      <td>9</td>\n",
       "      <td>174627.380952</td>\n",
       "      <td>141166.333333</td>\n",
       "      <td>3370</td>\n",
       "    </tr>\n",
       "    <tr>\n",
       "      <th>15</th>\n",
       "      <td>a</td>\n",
       "      <td>197</td>\n",
       "      <td>4479853</td>\n",
       "      <td>26</td>\n",
       "      <td>178716</td>\n",
       "      <td>532168</td>\n",
       "      <td>4</td>\n",
       "      <td>172302.038462</td>\n",
       "      <td>133042.000000</td>\n",
       "      <td>4210</td>\n",
       "    </tr>\n",
       "    <tr>\n",
       "      <th>16</th>\n",
       "      <td>a</td>\n",
       "      <td>37</td>\n",
       "      <td>4134526</td>\n",
       "      <td>23</td>\n",
       "      <td>224407</td>\n",
       "      <td>1190120</td>\n",
       "      <td>7</td>\n",
       "      <td>179762.000000</td>\n",
       "      <td>170017.142857</td>\n",
       "      <td>4230</td>\n",
       "    </tr>\n",
       "    <tr>\n",
       "      <th>17</th>\n",
       "      <td>a</td>\n",
       "      <td>189</td>\n",
       "      <td>3995311</td>\n",
       "      <td>18</td>\n",
       "      <td>230861</td>\n",
       "      <td>2600150</td>\n",
       "      <td>12</td>\n",
       "      <td>221961.722222</td>\n",
       "      <td>216679.166667</td>\n",
       "      <td>5760</td>\n",
       "    </tr>\n",
       "    <tr>\n",
       "      <th>18</th>\n",
       "      <td>a</td>\n",
       "      <td>8</td>\n",
       "      <td>2740134</td>\n",
       "      <td>21</td>\n",
       "      <td>153143</td>\n",
       "      <td>1449580</td>\n",
       "      <td>9</td>\n",
       "      <td>130482.571429</td>\n",
       "      <td>161064.444444</td>\n",
       "      <td>7520</td>\n",
       "    </tr>\n",
       "    <tr>\n",
       "      <th>19</th>\n",
       "      <td>a</td>\n",
       "      <td>159</td>\n",
       "      <td>376413</td>\n",
       "      <td>2</td>\n",
       "      <td>200841</td>\n",
       "      <td>4250129</td>\n",
       "      <td>22</td>\n",
       "      <td>188206.500000</td>\n",
       "      <td>193187.681818</td>\n",
       "      <td>8530</td>\n",
       "    </tr>\n",
       "    <tr>\n",
       "      <th>20</th>\n",
       "      <td>a</td>\n",
       "      <td>45</td>\n",
       "      <td>1770986</td>\n",
       "      <td>13</td>\n",
       "      <td>118254</td>\n",
       "      <td>2277218</td>\n",
       "      <td>17</td>\n",
       "      <td>136229.692308</td>\n",
       "      <td>133954.000000</td>\n",
       "      <td>9710</td>\n",
       "    </tr>\n",
       "    <tr>\n",
       "      <th>21</th>\n",
       "      <td>a</td>\n",
       "      <td>181</td>\n",
       "      <td>282077</td>\n",
       "      <td>2</td>\n",
       "      <td>169895</td>\n",
       "      <td>3524449</td>\n",
       "      <td>22</td>\n",
       "      <td>141038.500000</td>\n",
       "      <td>160202.227273</td>\n",
       "      <td>12610</td>\n",
       "    </tr>\n",
       "    <tr>\n",
       "      <th>22</th>\n",
       "      <td>a</td>\n",
       "      <td>5</td>\n",
       "      <td>3172482</td>\n",
       "      <td>27</td>\n",
       "      <td>113909</td>\n",
       "      <td>356427</td>\n",
       "      <td>3</td>\n",
       "      <td>117499.333333</td>\n",
       "      <td>118809.000000</td>\n",
       "      <td>29910</td>\n",
       "    </tr>\n",
       "  </tbody>\n",
       "</table>\n",
       "</div>"
      ],
      "text/plain": [
       "   assortment  Store  오픈 전 매출  오픈 전 개월수  오픈 달 매출  오픈 후 매출  오픈 후 개월수  \\\n",
       "0           a     30  1957541        13   136447  2020058        17   \n",
       "1           a    133  1307433         7   171622  3578733        23   \n",
       "2           a      6  1733507        11   173192  2391059        19   \n",
       "3           a    116   586615         3   197031  4927983        27   \n",
       "4           a    131  3978846        30   130694   130694         0   \n",
       "5           a    169  3515196        18   237850  1776653        12   \n",
       "6           a    170  3581425        28   102648   218282         2   \n",
       "7           a    191  1305058         7   158690  2790071        17   \n",
       "8           a     28  2888924        21   119427  1072599         9   \n",
       "9           a     14  1899391        14   145048  2246735        16   \n",
       "10          a    106  1516570         7   224476  4977289        23   \n",
       "11          a    137  4942367        24   204672   204672         0   \n",
       "12          a     95  4153809        21   172213  1632042         9   \n",
       "13          a    120  4085290        23   203623  1264077         7   \n",
       "14          a    126  3667175        21   131868  1270497         9   \n",
       "15          a    197  4479853        26   178716   532168         4   \n",
       "16          a     37  4134526        23   224407  1190120         7   \n",
       "17          a    189  3995311        18   230861  2600150        12   \n",
       "18          a      8  2740134        21   153143  1449580         9   \n",
       "19          a    159   376413         2   200841  4250129        22   \n",
       "20          a     45  1770986        13   118254  2277218        17   \n",
       "21          a    181   282077         2   169895  3524449        22   \n",
       "22          a      5  3172482        27   113909   356427         3   \n",
       "\n",
       "         오픈전 평균매출       오픈후 평균매출  경쟁사거리  \n",
       "0   150580.076923  118826.941176     40  \n",
       "1   186776.142857  155597.086957    270  \n",
       "2   157591.545455  125845.210526    310  \n",
       "3   195538.333333  182517.888889    680  \n",
       "4   132628.200000  130694.000000    920  \n",
       "5   195288.666667  148054.416667    980  \n",
       "6   127908.035714  109141.000000   1070  \n",
       "7   186436.857143  164121.823529   1100  \n",
       "8   137567.809524  119177.666667   1200  \n",
       "9   135670.785714  140420.937500   1300  \n",
       "10  216652.857143  216403.869565   1390  \n",
       "11  205931.958333  130694.000000   1730  \n",
       "12  197800.428571  181338.000000   1890  \n",
       "13  177621.304348  180582.428571   2290  \n",
       "14  174627.380952  141166.333333   3370  \n",
       "15  172302.038462  133042.000000   4210  \n",
       "16  179762.000000  170017.142857   4230  \n",
       "17  221961.722222  216679.166667   5760  \n",
       "18  130482.571429  161064.444444   7520  \n",
       "19  188206.500000  193187.681818   8530  \n",
       "20  136229.692308  133954.000000   9710  \n",
       "21  141038.500000  160202.227273  12610  \n",
       "22  117499.333333  118809.000000  29910  "
      ]
     },
     "execution_count": 13,
     "metadata": {},
     "output_type": "execute_result"
    }
   ],
   "source": [
    "# a타입 정보를 불러온다. \n",
    "\n",
    "Atype"
   ]
  },
  {
   "cell_type": "markdown",
   "metadata": {},
   "source": [
    "데이터 가공에 필요한 항목만 남긴다."
   ]
  },
  {
   "cell_type": "code",
   "execution_count": 14,
   "metadata": {},
   "outputs": [
    {
     "data": {
      "text/html": [
       "<div>\n",
       "<style scoped>\n",
       "    .dataframe tbody tr th:only-of-type {\n",
       "        vertical-align: middle;\n",
       "    }\n",
       "\n",
       "    .dataframe tbody tr th {\n",
       "        vertical-align: top;\n",
       "    }\n",
       "\n",
       "    .dataframe thead th {\n",
       "        text-align: right;\n",
       "    }\n",
       "</style>\n",
       "<table border=\"1\" class=\"dataframe\">\n",
       "  <thead>\n",
       "    <tr style=\"text-align: right;\">\n",
       "      <th></th>\n",
       "      <th>오픈전 평균매출</th>\n",
       "      <th>오픈후 평균매출</th>\n",
       "      <th>경쟁사거리</th>\n",
       "    </tr>\n",
       "  </thead>\n",
       "  <tbody>\n",
       "    <tr>\n",
       "      <th>0</th>\n",
       "      <td>150580.076923</td>\n",
       "      <td>118826.941176</td>\n",
       "      <td>40</td>\n",
       "    </tr>\n",
       "    <tr>\n",
       "      <th>1</th>\n",
       "      <td>186776.142857</td>\n",
       "      <td>155597.086957</td>\n",
       "      <td>270</td>\n",
       "    </tr>\n",
       "    <tr>\n",
       "      <th>2</th>\n",
       "      <td>157591.545455</td>\n",
       "      <td>125845.210526</td>\n",
       "      <td>310</td>\n",
       "    </tr>\n",
       "    <tr>\n",
       "      <th>3</th>\n",
       "      <td>195538.333333</td>\n",
       "      <td>182517.888889</td>\n",
       "      <td>680</td>\n",
       "    </tr>\n",
       "    <tr>\n",
       "      <th>4</th>\n",
       "      <td>132628.200000</td>\n",
       "      <td>130694.000000</td>\n",
       "      <td>920</td>\n",
       "    </tr>\n",
       "  </tbody>\n",
       "</table>\n",
       "</div>"
      ],
      "text/plain": [
       "        오픈전 평균매출       오픈후 평균매출  경쟁사거리\n",
       "0  150580.076923  118826.941176     40\n",
       "1  186776.142857  155597.086957    270\n",
       "2  157591.545455  125845.210526    310\n",
       "3  195538.333333  182517.888889    680\n",
       "4  132628.200000  130694.000000    920"
      ]
     },
     "execution_count": 14,
     "metadata": {},
     "output_type": "execute_result"
    }
   ],
   "source": [
    "Atype = pd.read_excel('중도경쟁사A.xlsx', header=0, \n",
    "                      usecols=\"H,I,J\", convert_float=True)\n",
    "Atype.head()"
   ]
  },
  {
   "cell_type": "markdown",
   "metadata": {},
   "source": [
    "정확한 비교를 위하여 평균매출의 상승률을 구한다."
   ]
  },
  {
   "cell_type": "code",
   "execution_count": 15,
   "metadata": {},
   "outputs": [
    {
     "data": {
      "text/html": [
       "<div>\n",
       "<style scoped>\n",
       "    .dataframe tbody tr th:only-of-type {\n",
       "        vertical-align: middle;\n",
       "    }\n",
       "\n",
       "    .dataframe tbody tr th {\n",
       "        vertical-align: top;\n",
       "    }\n",
       "\n",
       "    .dataframe thead th {\n",
       "        text-align: right;\n",
       "    }\n",
       "</style>\n",
       "<table border=\"1\" class=\"dataframe\">\n",
       "  <thead>\n",
       "    <tr style=\"text-align: right;\">\n",
       "      <th></th>\n",
       "      <th>오픈전 평균매출</th>\n",
       "      <th>오픈후 평균매출</th>\n",
       "      <th>경쟁사거리</th>\n",
       "      <th>상승률</th>\n",
       "    </tr>\n",
       "  </thead>\n",
       "  <tbody>\n",
       "    <tr>\n",
       "      <th>0</th>\n",
       "      <td>150580.076923</td>\n",
       "      <td>118826.941176</td>\n",
       "      <td>40</td>\n",
       "      <td>-0.210872</td>\n",
       "    </tr>\n",
       "    <tr>\n",
       "      <th>1</th>\n",
       "      <td>186776.142857</td>\n",
       "      <td>155597.086957</td>\n",
       "      <td>270</td>\n",
       "      <td>-0.166933</td>\n",
       "    </tr>\n",
       "    <tr>\n",
       "      <th>2</th>\n",
       "      <td>157591.545455</td>\n",
       "      <td>125845.210526</td>\n",
       "      <td>310</td>\n",
       "      <td>-0.201447</td>\n",
       "    </tr>\n",
       "    <tr>\n",
       "      <th>3</th>\n",
       "      <td>195538.333333</td>\n",
       "      <td>182517.888889</td>\n",
       "      <td>680</td>\n",
       "      <td>-0.066588</td>\n",
       "    </tr>\n",
       "    <tr>\n",
       "      <th>4</th>\n",
       "      <td>132628.200000</td>\n",
       "      <td>130694.000000</td>\n",
       "      <td>920</td>\n",
       "      <td>-0.014584</td>\n",
       "    </tr>\n",
       "  </tbody>\n",
       "</table>\n",
       "</div>"
      ],
      "text/plain": [
       "        오픈전 평균매출       오픈후 평균매출  경쟁사거리       상승률\n",
       "0  150580.076923  118826.941176     40 -0.210872\n",
       "1  186776.142857  155597.086957    270 -0.166933\n",
       "2  157591.545455  125845.210526    310 -0.201447\n",
       "3  195538.333333  182517.888889    680 -0.066588\n",
       "4  132628.200000  130694.000000    920 -0.014584"
      ]
     },
     "execution_count": 15,
     "metadata": {},
     "output_type": "execute_result"
    }
   ],
   "source": [
    "Atype['상승률']=(Atype['오픈후 평균매출'] - Atype['오픈전 평균매출']) / Atype['오픈전 평균매출']\n",
    "\n",
    "Atype.head()"
   ]
  },
  {
   "cell_type": "markdown",
   "metadata": {},
   "source": [
    "상승률이 낮을수록 경쟁사가 신규 매장을 오픈할 때 매출하락을 방어하는 데에 있어서 취약함을 뜻한다.\n",
    "\n",
    "A타입과 C타입의 Store 수가 다르므로 일일히 대조하여 비교할 수가 없다. 그러므로 거리에 따라 4개의 그룹으로 나누어 상승률의 평균을 구하였다."
   ]
  },
  {
   "cell_type": "code",
   "execution_count": 16,
   "metadata": {},
   "outputs": [
    {
     "data": {
      "text/plain": [
       "-0.15038199497346036"
      ]
     },
     "execution_count": 16,
     "metadata": {},
     "output_type": "execute_result"
    }
   ],
   "source": [
    "#경쟁사가 가장 가까운 거리에 있는 6개의 평균 상승률\n",
    "np.mean(Atype.상승률[0:6])"
   ]
  },
  {
   "cell_type": "code",
   "execution_count": 17,
   "metadata": {},
   "outputs": [
    {
     "data": {
      "text/plain": [
       "-0.1219310030386926"
      ]
     },
     "execution_count": 17,
     "metadata": {},
     "output_type": "execute_result"
    }
   ],
   "source": [
    "#경쟁사가 두번째로 가까운 거리에 있는 6개의 평균 상승률\n",
    "np.mean(Atype.상승률[6:12])"
   ]
  },
  {
   "cell_type": "code",
   "execution_count": 18,
   "metadata": {},
   "outputs": [
    {
     "data": {
      "text/plain": [
       "-0.09400592265884831"
      ]
     },
     "execution_count": 18,
     "metadata": {},
     "output_type": "execute_result"
    }
   ],
   "source": [
    "#경쟁사가 세번째로 가까운 거리에 있는 6개의 평균 상승률\n",
    "np.mean(Atype.상승률[12:18])"
   ]
  },
  {
   "cell_type": "code",
   "execution_count": 19,
   "metadata": {},
   "outputs": [
    {
     "data": {
      "text/plain": [
       "0.0782317870432673"
      ]
     },
     "execution_count": 19,
     "metadata": {},
     "output_type": "execute_result"
    }
   ],
   "source": [
    "#경쟁사가 가장 먼 거리에 있는 5개의 평균 상승률\n",
    "np.mean(Atype.상승률[18:23])"
   ]
  },
  {
   "cell_type": "markdown",
   "metadata": {},
   "source": [
    "C타입도 위의 A타입의 데이터처럼 같은 절차로 가공한다."
   ]
  },
  {
   "cell_type": "code",
   "execution_count": 20,
   "metadata": {},
   "outputs": [
    {
     "data": {
      "text/html": [
       "<div>\n",
       "<style scoped>\n",
       "    .dataframe tbody tr th:only-of-type {\n",
       "        vertical-align: middle;\n",
       "    }\n",
       "\n",
       "    .dataframe tbody tr th {\n",
       "        vertical-align: top;\n",
       "    }\n",
       "\n",
       "    .dataframe thead th {\n",
       "        text-align: right;\n",
       "    }\n",
       "</style>\n",
       "<table border=\"1\" class=\"dataframe\">\n",
       "  <thead>\n",
       "    <tr style=\"text-align: right;\">\n",
       "      <th></th>\n",
       "      <th>assortment</th>\n",
       "      <th>Store</th>\n",
       "      <th>오픈 전 매출</th>\n",
       "      <th>오픈 전 개월수</th>\n",
       "      <th>오픈 달 매출</th>\n",
       "      <th>오픈 후 매출</th>\n",
       "      <th>오픈 후 개월수</th>\n",
       "      <th>오픈전 평균매출</th>\n",
       "      <th>오픈후 평균매출</th>\n",
       "      <th>경쟁사거리</th>\n",
       "    </tr>\n",
       "  </thead>\n",
       "  <tbody>\n",
       "    <tr>\n",
       "      <th>0</th>\n",
       "      <td>c</td>\n",
       "      <td>166</td>\n",
       "      <td>2262495</td>\n",
       "      <td>15</td>\n",
       "      <td>141433</td>\n",
       "      <td>2129265</td>\n",
       "      <td>15</td>\n",
       "      <td>150833.000000</td>\n",
       "      <td>141951.000000</td>\n",
       "      <td>100</td>\n",
       "    </tr>\n",
       "    <tr>\n",
       "      <th>1</th>\n",
       "      <td>c</td>\n",
       "      <td>47</td>\n",
       "      <td>527215</td>\n",
       "      <td>3</td>\n",
       "      <td>164466</td>\n",
       "      <td>4910079</td>\n",
       "      <td>27</td>\n",
       "      <td>175738.333333</td>\n",
       "      <td>181854.777778</td>\n",
       "      <td>270</td>\n",
       "    </tr>\n",
       "    <tr>\n",
       "      <th>2</th>\n",
       "      <td>c</td>\n",
       "      <td>57</td>\n",
       "      <td>4878326</td>\n",
       "      <td>17</td>\n",
       "      <td>267591</td>\n",
       "      <td>3009716</td>\n",
       "      <td>13</td>\n",
       "      <td>286960.352941</td>\n",
       "      <td>231516.615385</td>\n",
       "      <td>420</td>\n",
       "    </tr>\n",
       "    <tr>\n",
       "      <th>3</th>\n",
       "      <td>c</td>\n",
       "      <td>52</td>\n",
       "      <td>2974594</td>\n",
       "      <td>15</td>\n",
       "      <td>163924</td>\n",
       "      <td>1469224</td>\n",
       "      <td>9</td>\n",
       "      <td>198306.266667</td>\n",
       "      <td>163247.111111</td>\n",
       "      <td>450</td>\n",
       "    </tr>\n",
       "    <tr>\n",
       "      <th>4</th>\n",
       "      <td>c</td>\n",
       "      <td>33</td>\n",
       "      <td>894649</td>\n",
       "      <td>4</td>\n",
       "      <td>209083</td>\n",
       "      <td>5468426</td>\n",
       "      <td>26</td>\n",
       "      <td>223662.250000</td>\n",
       "      <td>210324.076923</td>\n",
       "      <td>1320</td>\n",
       "    </tr>\n",
       "    <tr>\n",
       "      <th>5</th>\n",
       "      <td>c</td>\n",
       "      <td>185</td>\n",
       "      <td>5091087</td>\n",
       "      <td>28</td>\n",
       "      <td>173026</td>\n",
       "      <td>357651</td>\n",
       "      <td>2</td>\n",
       "      <td>181824.535714</td>\n",
       "      <td>178825.500000</td>\n",
       "      <td>1860</td>\n",
       "    </tr>\n",
       "    <tr>\n",
       "      <th>6</th>\n",
       "      <td>c</td>\n",
       "      <td>103</td>\n",
       "      <td>2592946</td>\n",
       "      <td>22</td>\n",
       "      <td>112886</td>\n",
       "      <td>253241</td>\n",
       "      <td>8</td>\n",
       "      <td>117861.181818</td>\n",
       "      <td>31655.125000</td>\n",
       "      <td>5210</td>\n",
       "    </tr>\n",
       "    <tr>\n",
       "      <th>7</th>\n",
       "      <td>c</td>\n",
       "      <td>54</td>\n",
       "      <td>3752136</td>\n",
       "      <td>19</td>\n",
       "      <td>196648</td>\n",
       "      <td>2258634</td>\n",
       "      <td>11</td>\n",
       "      <td>197480.842105</td>\n",
       "      <td>205330.363636</td>\n",
       "      <td>7170</td>\n",
       "    </tr>\n",
       "    <tr>\n",
       "      <th>8</th>\n",
       "      <td>c</td>\n",
       "      <td>51</td>\n",
       "      <td>922745</td>\n",
       "      <td>6</td>\n",
       "      <td>174191</td>\n",
       "      <td>3055092</td>\n",
       "      <td>18</td>\n",
       "      <td>153790.833333</td>\n",
       "      <td>169727.333333</td>\n",
       "      <td>10570</td>\n",
       "    </tr>\n",
       "    <tr>\n",
       "      <th>9</th>\n",
       "      <td>c</td>\n",
       "      <td>84</td>\n",
       "      <td>6050494</td>\n",
       "      <td>19</td>\n",
       "      <td>323802</td>\n",
       "      <td>3718426</td>\n",
       "      <td>11</td>\n",
       "      <td>318447.052632</td>\n",
       "      <td>338038.727273</td>\n",
       "      <td>11810</td>\n",
       "    </tr>\n",
       "    <tr>\n",
       "      <th>10</th>\n",
       "      <td>c</td>\n",
       "      <td>75</td>\n",
       "      <td>1604262</td>\n",
       "      <td>11</td>\n",
       "      <td>184726</td>\n",
       "      <td>2933400</td>\n",
       "      <td>19</td>\n",
       "      <td>145842.000000</td>\n",
       "      <td>154389.473684</td>\n",
       "      <td>22440</td>\n",
       "    </tr>\n",
       "    <tr>\n",
       "      <th>11</th>\n",
       "      <td>c</td>\n",
       "      <td>7</td>\n",
       "      <td>579944</td>\n",
       "      <td>3</td>\n",
       "      <td>197381</td>\n",
       "      <td>6152877</td>\n",
       "      <td>27</td>\n",
       "      <td>193314.666667</td>\n",
       "      <td>227884.333333</td>\n",
       "      <td>24000</td>\n",
       "    </tr>\n",
       "    <tr>\n",
       "      <th>12</th>\n",
       "      <td>c</td>\n",
       "      <td>138</td>\n",
       "      <td>3745246</td>\n",
       "      <td>21</td>\n",
       "      <td>181577</td>\n",
       "      <td>1794413</td>\n",
       "      <td>9</td>\n",
       "      <td>178345.047619</td>\n",
       "      <td>199379.222222</td>\n",
       "      <td>25360</td>\n",
       "    </tr>\n",
       "    <tr>\n",
       "      <th>13</th>\n",
       "      <td>c</td>\n",
       "      <td>53</td>\n",
       "      <td>1039487</td>\n",
       "      <td>8</td>\n",
       "      <td>119643</td>\n",
       "      <td>2968479</td>\n",
       "      <td>22</td>\n",
       "      <td>129935.875000</td>\n",
       "      <td>134930.863636</td>\n",
       "      <td>30360</td>\n",
       "    </tr>\n",
       "    <tr>\n",
       "      <th>14</th>\n",
       "      <td>c</td>\n",
       "      <td>110</td>\n",
       "      <td>324277</td>\n",
       "      <td>3</td>\n",
       "      <td>107536</td>\n",
       "      <td>3123180</td>\n",
       "      <td>27</td>\n",
       "      <td>108092.333333</td>\n",
       "      <td>115673.333333</td>\n",
       "      <td>46590</td>\n",
       "    </tr>\n",
       "    <tr>\n",
       "      <th>15</th>\n",
       "      <td>c</td>\n",
       "      <td>122</td>\n",
       "      <td>418119</td>\n",
       "      <td>3</td>\n",
       "      <td>156596</td>\n",
       "      <td>5144168</td>\n",
       "      <td>27</td>\n",
       "      <td>139373.000000</td>\n",
       "      <td>190524.740741</td>\n",
       "      <td>58260</td>\n",
       "    </tr>\n",
       "  </tbody>\n",
       "</table>\n",
       "</div>"
      ],
      "text/plain": [
       "   assortment  Store  오픈 전 매출  오픈 전 개월수  오픈 달 매출  오픈 후 매출  오픈 후 개월수  \\\n",
       "0           c    166  2262495        15   141433  2129265        15   \n",
       "1           c     47   527215         3   164466  4910079        27   \n",
       "2           c     57  4878326        17   267591  3009716        13   \n",
       "3           c     52  2974594        15   163924  1469224         9   \n",
       "4           c     33   894649         4   209083  5468426        26   \n",
       "5           c    185  5091087        28   173026   357651         2   \n",
       "6           c    103  2592946        22   112886   253241         8   \n",
       "7           c     54  3752136        19   196648  2258634        11   \n",
       "8           c     51   922745         6   174191  3055092        18   \n",
       "9           c     84  6050494        19   323802  3718426        11   \n",
       "10          c     75  1604262        11   184726  2933400        19   \n",
       "11          c      7   579944         3   197381  6152877        27   \n",
       "12          c    138  3745246        21   181577  1794413         9   \n",
       "13          c     53  1039487         8   119643  2968479        22   \n",
       "14          c    110   324277         3   107536  3123180        27   \n",
       "15          c    122   418119         3   156596  5144168        27   \n",
       "\n",
       "         오픈전 평균매출       오픈후 평균매출  경쟁사거리  \n",
       "0   150833.000000  141951.000000    100  \n",
       "1   175738.333333  181854.777778    270  \n",
       "2   286960.352941  231516.615385    420  \n",
       "3   198306.266667  163247.111111    450  \n",
       "4   223662.250000  210324.076923   1320  \n",
       "5   181824.535714  178825.500000   1860  \n",
       "6   117861.181818   31655.125000   5210  \n",
       "7   197480.842105  205330.363636   7170  \n",
       "8   153790.833333  169727.333333  10570  \n",
       "9   318447.052632  338038.727273  11810  \n",
       "10  145842.000000  154389.473684  22440  \n",
       "11  193314.666667  227884.333333  24000  \n",
       "12  178345.047619  199379.222222  25360  \n",
       "13  129935.875000  134930.863636  30360  \n",
       "14  108092.333333  115673.333333  46590  \n",
       "15  139373.000000  190524.740741  58260  "
      ]
     },
     "execution_count": 20,
     "metadata": {},
     "output_type": "execute_result"
    }
   ],
   "source": [
    "# C타입 정보를 불러온다. \n",
    "\n",
    "Ctype"
   ]
  },
  {
   "cell_type": "code",
   "execution_count": 21,
   "metadata": {},
   "outputs": [
    {
     "data": {
      "text/html": [
       "<div>\n",
       "<style scoped>\n",
       "    .dataframe tbody tr th:only-of-type {\n",
       "        vertical-align: middle;\n",
       "    }\n",
       "\n",
       "    .dataframe tbody tr th {\n",
       "        vertical-align: top;\n",
       "    }\n",
       "\n",
       "    .dataframe thead th {\n",
       "        text-align: right;\n",
       "    }\n",
       "</style>\n",
       "<table border=\"1\" class=\"dataframe\">\n",
       "  <thead>\n",
       "    <tr style=\"text-align: right;\">\n",
       "      <th></th>\n",
       "      <th>오픈전 평균매출</th>\n",
       "      <th>오픈후 평균매출</th>\n",
       "      <th>경쟁사거리</th>\n",
       "    </tr>\n",
       "  </thead>\n",
       "  <tbody>\n",
       "    <tr>\n",
       "      <th>0</th>\n",
       "      <td>150833.000000</td>\n",
       "      <td>141951.000000</td>\n",
       "      <td>100</td>\n",
       "    </tr>\n",
       "    <tr>\n",
       "      <th>1</th>\n",
       "      <td>175738.333333</td>\n",
       "      <td>181854.777778</td>\n",
       "      <td>270</td>\n",
       "    </tr>\n",
       "    <tr>\n",
       "      <th>2</th>\n",
       "      <td>286960.352941</td>\n",
       "      <td>231516.615385</td>\n",
       "      <td>420</td>\n",
       "    </tr>\n",
       "    <tr>\n",
       "      <th>3</th>\n",
       "      <td>198306.266667</td>\n",
       "      <td>163247.111111</td>\n",
       "      <td>450</td>\n",
       "    </tr>\n",
       "    <tr>\n",
       "      <th>4</th>\n",
       "      <td>223662.250000</td>\n",
       "      <td>210324.076923</td>\n",
       "      <td>1320</td>\n",
       "    </tr>\n",
       "  </tbody>\n",
       "</table>\n",
       "</div>"
      ],
      "text/plain": [
       "        오픈전 평균매출       오픈후 평균매출  경쟁사거리\n",
       "0  150833.000000  141951.000000    100\n",
       "1  175738.333333  181854.777778    270\n",
       "2  286960.352941  231516.615385    420\n",
       "3  198306.266667  163247.111111    450\n",
       "4  223662.250000  210324.076923   1320"
      ]
     },
     "execution_count": 21,
     "metadata": {},
     "output_type": "execute_result"
    }
   ],
   "source": [
    "Ctype = pd.read_excel('중도경쟁사C.xlsx', header=0, \n",
    "                      usecols=\"H,I,J\", convert_float=True)\n",
    "Ctype.head()"
   ]
  },
  {
   "cell_type": "code",
   "execution_count": 22,
   "metadata": {},
   "outputs": [
    {
     "data": {
      "text/html": [
       "<div>\n",
       "<style scoped>\n",
       "    .dataframe tbody tr th:only-of-type {\n",
       "        vertical-align: middle;\n",
       "    }\n",
       "\n",
       "    .dataframe tbody tr th {\n",
       "        vertical-align: top;\n",
       "    }\n",
       "\n",
       "    .dataframe thead th {\n",
       "        text-align: right;\n",
       "    }\n",
       "</style>\n",
       "<table border=\"1\" class=\"dataframe\">\n",
       "  <thead>\n",
       "    <tr style=\"text-align: right;\">\n",
       "      <th></th>\n",
       "      <th>오픈전 평균매출</th>\n",
       "      <th>오픈후 평균매출</th>\n",
       "      <th>경쟁사거리</th>\n",
       "      <th>상승률</th>\n",
       "    </tr>\n",
       "  </thead>\n",
       "  <tbody>\n",
       "    <tr>\n",
       "      <th>0</th>\n",
       "      <td>150833.000000</td>\n",
       "      <td>141951.000000</td>\n",
       "      <td>100</td>\n",
       "      <td>-0.058886</td>\n",
       "    </tr>\n",
       "    <tr>\n",
       "      <th>1</th>\n",
       "      <td>175738.333333</td>\n",
       "      <td>181854.777778</td>\n",
       "      <td>270</td>\n",
       "      <td>0.034804</td>\n",
       "    </tr>\n",
       "    <tr>\n",
       "      <th>2</th>\n",
       "      <td>286960.352941</td>\n",
       "      <td>231516.615385</td>\n",
       "      <td>420</td>\n",
       "      <td>-0.193210</td>\n",
       "    </tr>\n",
       "    <tr>\n",
       "      <th>3</th>\n",
       "      <td>198306.266667</td>\n",
       "      <td>163247.111111</td>\n",
       "      <td>450</td>\n",
       "      <td>-0.176793</td>\n",
       "    </tr>\n",
       "    <tr>\n",
       "      <th>4</th>\n",
       "      <td>223662.250000</td>\n",
       "      <td>210324.076923</td>\n",
       "      <td>1320</td>\n",
       "      <td>-0.059635</td>\n",
       "    </tr>\n",
       "  </tbody>\n",
       "</table>\n",
       "</div>"
      ],
      "text/plain": [
       "        오픈전 평균매출       오픈후 평균매출  경쟁사거리       상승률\n",
       "0  150833.000000  141951.000000    100 -0.058886\n",
       "1  175738.333333  181854.777778    270  0.034804\n",
       "2  286960.352941  231516.615385    420 -0.193210\n",
       "3  198306.266667  163247.111111    450 -0.176793\n",
       "4  223662.250000  210324.076923   1320 -0.059635"
      ]
     },
     "execution_count": 22,
     "metadata": {},
     "output_type": "execute_result"
    }
   ],
   "source": [
    "Ctype['상승률']=(Ctype['오픈후 평균매출'] - Ctype['오픈전 평균매출']) / Ctype['오픈전 평균매출']\n",
    "\n",
    "Ctype.head()"
   ]
  },
  {
   "cell_type": "code",
   "execution_count": 23,
   "metadata": {},
   "outputs": [
    {
     "data": {
      "text/plain": [
       "-0.09852136789014818"
      ]
     },
     "execution_count": 23,
     "metadata": {},
     "output_type": "execute_result"
    }
   ],
   "source": [
    "#경쟁사가 가장 가까운 거리에 있는 4개의 평균 상승률\n",
    "np.mean(Ctype.상승률[0:4])"
   ]
  },
  {
   "cell_type": "code",
   "execution_count": 24,
   "metadata": {},
   "outputs": [
    {
     "data": {
      "text/plain": [
       "-0.19195036269791277"
      ]
     },
     "execution_count": 24,
     "metadata": {},
     "output_type": "execute_result"
    }
   ],
   "source": [
    "#경쟁사가 두번째로 가까운 거리에 있는 4개의 평균 상승률\n",
    "np.mean(Ctype.상승률[4:8])"
   ]
  },
  {
   "cell_type": "code",
   "execution_count": 25,
   "metadata": {},
   "outputs": [
    {
     "data": {
      "text/plain": [
       "0.10064517829705875"
      ]
     },
     "execution_count": 25,
     "metadata": {},
     "output_type": "execute_result"
    }
   ],
   "source": [
    "#경쟁사가 세번째로 가까운 거리에 있는 4개의 평균 상승률\n",
    "np.mean(Ctype.상승률[8:12])"
   ]
  },
  {
   "cell_type": "code",
   "execution_count": 26,
   "metadata": {},
   "outputs": [
    {
     "data": {
      "text/plain": [
       "0.14838265069691448"
      ]
     },
     "execution_count": 26,
     "metadata": {},
     "output_type": "execute_result"
    }
   ],
   "source": [
    "#경쟁사가 가장 먼 거리에 있는 4개의 평균 상승률\n",
    "np.mean(Ctype.상승률[12:16])"
   ]
  },
  {
   "cell_type": "markdown",
   "metadata": {},
   "source": [
    "위의 절차를 통해 경쟁사 거리를 4개의 등급으로 나누어 A타입과 C타입의 평균 매출상승률을 구하였다. \n",
    "이를 하나로 통합하면 다음과 같다."
   ]
  },
  {
   "cell_type": "code",
   "execution_count": 27,
   "metadata": {},
   "outputs": [
    {
     "data": {
      "text/html": [
       "<div>\n",
       "<style scoped>\n",
       "    .dataframe tbody tr th:only-of-type {\n",
       "        vertical-align: middle;\n",
       "    }\n",
       "\n",
       "    .dataframe tbody tr th {\n",
       "        vertical-align: top;\n",
       "    }\n",
       "\n",
       "    .dataframe thead th {\n",
       "        text-align: right;\n",
       "    }\n",
       "</style>\n",
       "<table border=\"1\" class=\"dataframe\">\n",
       "  <thead>\n",
       "    <tr style=\"text-align: right;\">\n",
       "      <th></th>\n",
       "      <th>A타입 상승률</th>\n",
       "      <th>C타입 상승률</th>\n",
       "    </tr>\n",
       "  </thead>\n",
       "  <tbody>\n",
       "    <tr>\n",
       "      <th>가</th>\n",
       "      <td>-0.1503</td>\n",
       "      <td>-0.0985</td>\n",
       "    </tr>\n",
       "    <tr>\n",
       "      <th>나</th>\n",
       "      <td>-0.1219</td>\n",
       "      <td>-0.1919</td>\n",
       "    </tr>\n",
       "    <tr>\n",
       "      <th>다</th>\n",
       "      <td>-0.0940</td>\n",
       "      <td>0.1006</td>\n",
       "    </tr>\n",
       "    <tr>\n",
       "      <th>라</th>\n",
       "      <td>0.0782</td>\n",
       "      <td>0.1483</td>\n",
       "    </tr>\n",
       "  </tbody>\n",
       "</table>\n",
       "</div>"
      ],
      "text/plain": [
       "   A타입 상승률  C타입 상승률\n",
       "가  -0.1503  -0.0985\n",
       "나  -0.1219  -0.1919\n",
       "다  -0.0940   0.1006\n",
       "라   0.0782   0.1483"
      ]
     },
     "execution_count": 27,
     "metadata": {},
     "output_type": "execute_result"
    }
   ],
   "source": [
    "df1 = pd.DataFrame({'A타입 상승률': ['-0.1503', '-0.1219', '-0.0940', '0.0782'],\n",
    "                    'C타입 상승률': ['-0.0985', '-0.1919', '0.1006', '0.1483']},\n",
    "                   index=['가','나','다','라'])\n",
    "df1"
   ]
  },
  {
   "cell_type": "markdown",
   "metadata": {},
   "source": [
    "경쟁사가 가장 가까운 거리에 위치한 매장의 집단은 '가', 두번째로 가가운 거리에 위치한 매장의 집단은 '나', 세번째로 가까운 거리에 위치한 매장의 집단은 '다', 가장 먼 거리에 위치한 매장의 집단은 '라'로 분류하였다. \n",
    "이를 상승률과 함께 그래프로 나타내면 다음과 같다."
   ]
  },
  {
   "cell_type": "code",
   "execution_count": 28,
   "metadata": {},
   "outputs": [
    {
     "data": {
      "image/png": "[encoded data removed]",
      "text/plain": [
       "<Figure size 432x288 with 1 Axes>"
      ]
     },
     "metadata": {},
     "output_type": "display_data"
    }
   ],
   "source": [
    "plt.figure()\n",
    "xs = [\"가\", \"나\", \"다\", \"라\"]\n",
    "plt.plot(xs, [-0.1503, -0.1219, -0.0940, 0.0782], lw=4, label = 'A타입 상승률')\n",
    "plt.plot(xs, [-0.0985, -0.1919, 0.1006, 0.1483], lw=4, label = 'C타입 상승률')\n",
    "plt.grid()\n",
    "plt.xlabel('거리') \n",
    "plt.ylabel('상승률') \n",
    "plt.title('경쟁사의 중도 오픈 후 거리와 타입에 따른 매출상승률 평균')\n",
    "plt.legend()\n",
    "plt.show()"
   ]
  },
  {
   "cell_type": "markdown",
   "metadata": {},
   "source": [
    "경쟁사의 신규 매장이 오픈하면 A타입이 매출하락을 방어하는 데에 있어서 전반적으로 취약하다."
   ]
  },
  {
   "cell_type": "markdown",
   "metadata": {},
   "source": [
    " "
   ]
  },
  {
   "cell_type": "markdown",
   "metadata": {},
   "source": [
    "결론) \n",
    "\n",
    "    대응책: 경쟁사가 신규 매장을 오픈하였을 때는 A타입보다 C타입의 매장으로 대응해야 한다."
   ]
  },
  {
   "cell_type": "markdown",
   "metadata": {},
   "source": [
    " "
   ]
  },
  {
   "cell_type": "markdown",
   "metadata": {},
   "source": [
    " "
   ]
  },
  {
   "cell_type": "markdown",
   "metadata": {},
   "source": [
    "# Ⅲ. 결론"
   ]
  },
  {
   "cell_type": "markdown",
   "metadata": {},
   "source": [
    " "
   ]
  },
  {
   "cell_type": "markdown",
   "metadata": {},
   "source": [
    " DataSet에서 추출할 수 있는 요인들을 다양한 방면으로 묶어서 매출과 고객수에 영향을 미치는 관계를 알아보고자 하였다. 지금까지 도출된 결과를 바탕으로 매장 운영 전략을 아래에 정리하고자 한다. "
   ]
  },
  {
   "cell_type": "markdown",
   "metadata": {},
   "source": [
    " "
   ]
  },
  {
   "cell_type": "markdown",
   "metadata": {},
   "source": [
    "## 1. 매장 운영 전략"
   ]
  },
  {
   "cell_type": "markdown",
   "metadata": {},
   "source": [
    " "
   ]
  },
  {
   "cell_type": "markdown",
   "metadata": {},
   "source": [
    "    1. 프로모션 전략\n",
    "\n",
    "    상시 프로모션(Promo2)에 따른 매출 분석을 통하여 상시 프로모션이 매출 증가에 확실히 긍정적인 역할을 한다는 것을 \n",
    "    알 수 있었다. 그에 더 나아가, 실질적인 전략을 작성하기 위하여 프로모션을 실시함에 따라 미치는 다른 요인들을 \n",
    "    도출해내고자 분석을 실시하였다. 전략은 아래와 같다.\n",
    "    \n",
    "        1. 매출이 낮은 화요일, 수요일(혹은 목요일)과 일요일 고객도 유인할 수 있는 월요일에 상시 프로모션을 진행하는 것이 가장 효율적이다. \n",
    "        2. 공휴일에 프로모션을 진행해야 한다. 그렇지 않으면 프로모션을 한 평일보다 매출이 낮다."
   ]
  },
  {
   "cell_type": "markdown",
   "metadata": {},
   "source": [
    "\n",
    "    2. 경쟁사 대응책\n",
    "\n",
    "    가장 근처에 있는 경쟁사의 거리와 경쟁사의 신규 매장의 출현이라는 가장 큰 요인을 기점으로, Rossmann 매장의 매출 변화를 분석하였다.\n",
    "    Rossmann의 Assortment 타입이 변수로 유의미한 데이터 결과를 도출하였음으로, 이를 토대로 나온 경쟁사 대응책은 아래와 같다. \n",
    "    \n",
    "        1. 경쟁사의 거리는 매출과 상관이 없다. 가까운 곳에 경쟁사가 있다고 해서 무조건 매출을 걱정할 필요는 없다.\n",
    "        2. 경쟁사의 신규 매장 출현도 마찬가지이다. 그것 자체로는 영향이 미미하다.\n",
    "        3. 그러나 경쟁사가 신규 매장을 오픈하였을 때는 A타입보다 C타입의 매장으로 대응하는 것이 매출 상승에 효과적이다."
   ]
  },
  {
   "cell_type": "markdown",
   "metadata": {},
   "source": [
    " "
   ]
  },
  {
   "cell_type": "markdown",
   "metadata": {},
   "source": [
    "## 2. 한계점"
   ]
  },
  {
   "cell_type": "markdown",
   "metadata": {},
   "source": [
    " "
   ]
  },
  {
   "cell_type": "markdown",
   "metadata": {},
   "source": [
    "데이터 분석을 토대로 추측되는 결과물들을 검증할 수 있는 추가적인 데이터가 없어서 아쉬웠다. 또한 Python을 다루는 능력이 부족하여 데이터를 가공하는 데에 어려움을 많이 겪었다. 가지고 있는 Rossmann의 데이터 개체 수가 매우 많아 Python 안에서 다루기가 매우 복잡하여 1차 가공을 대부분 엑셀에서 행해야 했다.  "
   ]
  }
 ],
 "metadata": {
  "kernelspec": {
   "display_name": "Python 3",
   "language": "python",
   "name": "python3"
  },
  "language_info": {
   "codemirror_mode": {
    "name": "ipython",
    "version": 3
   },
   "file_extension": ".py",
   "mimetype": "text/x-python",
   "name": "python",
   "nbconvert_exporter": "python",
   "pygments_lexer": "ipython3",
   "version": "3.6.4"
  }
 },
 "nbformat": 4,
 "nbformat_minor": 2
}
