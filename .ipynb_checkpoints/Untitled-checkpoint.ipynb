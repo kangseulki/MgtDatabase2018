{
 "cells": [
  {
   "cell_type": "code",
   "execution_count": 1,
   "metadata": {},
   "outputs": [
    {
     "name": "stdout",
     "output_type": "stream",
     "text": [
      "커피나옵니다\n",
      "9잔 남았습니다\n",
      "커피나옵니다\n",
      "8잔 남았습니다\n",
      "커피나옵니다\n",
      "7잔 남았습니다\n",
      "커피나옵니다\n",
      "6잔 남았습니다\n",
      "커피나옵니다\n",
      "5잔 남았습니다\n",
      "커피나옵니다\n",
      "4잔 남았습니다\n",
      "커피나옵니다\n",
      "3잔 남았습니다\n",
      "커피나옵니다\n",
      "2잔 남았습니다\n",
      "커피나옵니다\n",
      "1잔 남았습니다\n",
      "커피나옵니다\n",
      "0잔 남았습니다\n",
      "커피가 모두 소진되었습니다\n"
     ]
    }
   ],
   "source": [
    "coffee=10\n",
    "money=300\n",
    "while money:\n",
    "    print(\"커피나옵니다\")\n",
    "    coffee=coffee-1\n",
    "    print(\"%d잔 남았습니다\" % coffee)\n",
    "    if not coffee:\n",
    "        print('커피가 모두 소진되었습니다')\n",
    "        break"
   ]
  },
  {
   "cell_type": "code",
   "execution_count": 2,
   "metadata": {},
   "outputs": [
    {
     "name": "stdout",
     "output_type": "stream",
     "text": [
      "1번 학생은 30점입니다.\n",
      "불합격\n",
      "2번 학생은 60점입니다.\n",
      "합격\n",
      "3번 학생은 40점입니다.\n",
      "재시험\n",
      "4번 학생은 70점입니다.\n",
      "합격\n",
      "5번 학생은 90점입니다.\n",
      "합격\n"
     ]
    }
   ],
   "source": [
    "number=0\n",
    "marks=[30,60,40,70,90]\n",
    "for mark in marks:\n",
    "    number=number+1\n",
    "    if mark >= 60:\n",
    "        print('%d번 학생은 %d점입니다.' % (number, mark))\n",
    "        print('합격')\n",
    "    elif mark >= 40:\n",
    "        print('{0}번 학생은 {1}점입니다.'.format(number,mark))\n",
    "        print('재시험')\n",
    "    else:\n",
    "        print('{number}번 학생은 {mark}점입니다.' .format(number=number, mark=mark))\n",
    "        print('불합격')"
   ]
  },
  {
   "cell_type": "code",
   "execution_count": null,
   "metadata": {},
   "outputs": [],
   "source": []
  }
 ],
 "metadata": {
  "kernelspec": {
   "display_name": "Python 3",
   "language": "python",
   "name": "python3"
  },
  "language_info": {
   "codemirror_mode": {
    "name": "ipython",
    "version": 3
   },
   "file_extension": ".py",
   "mimetype": "text/x-python",
   "name": "python",
   "nbconvert_exporter": "python",
   "pygments_lexer": "ipython3",
   "version": "3.6.4"
  }
 },
 "nbformat": 4,
 "nbformat_minor": 2
}
