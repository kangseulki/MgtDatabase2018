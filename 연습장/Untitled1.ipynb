{
 "cells": [
  {
   "cell_type": "code",
   "execution_count": 2,
   "metadata": {},
   "outputs": [
    {
     "name": "stdout",
     "output_type": "stream",
     "text": [
      "1\n",
      "3\n",
      "5\n",
      "7\n",
      "9\n"
     ]
    }
   ],
   "source": [
    "a=0\n",
    "while a < 10:\n",
    "    a=a+1\n",
    "    if a%2==0: continue\n",
    "    print(a)"
   ]
  },
  {
   "cell_type": "code",
   "execution_count": 3,
   "metadata": {},
   "outputs": [
    {
     "name": "stdout",
     "output_type": "stream",
     "text": [
      "2\n",
      "4\n",
      "6\n",
      "8\n",
      "10\n"
     ]
    }
   ],
   "source": [
    "a=0\n",
    "while a < 10:\n",
    "    a=a+1\n",
    "    if a%2==1: continue\n",
    "    print(a)"
   ]
  },
  {
   "cell_type": "code",
   "execution_count": 5,
   "metadata": {},
   "outputs": [
    {
     "name": "stdout",
     "output_type": "stream",
     "text": [
      "2\n",
      "4\n",
      "6\n",
      "8\n",
      "10\n"
     ]
    }
   ],
   "source": [
    "a=0\n",
    "while a <= 10:\n",
    "    a=a+1\n",
    "    if a%2==1: continue\n",
    "    print(a)"
   ]
  },
  {
   "cell_type": "code",
   "execution_count": 6,
   "metadata": {},
   "outputs": [
    {
     "name": "stdout",
     "output_type": "stream",
     "text": [
      "one\n",
      "two\n",
      "three\n"
     ]
    }
   ],
   "source": [
    "test=['one', 'two', 'three']\n",
    "for i in test:\n",
    "    print(i)"
   ]
  },
  {
   "cell_type": "code",
   "execution_count": 10,
   "metadata": {},
   "outputs": [
    {
     "name": "stdout",
     "output_type": "stream",
     "text": [
      "3\n",
      "7\n",
      "11\n"
     ]
    }
   ],
   "source": [
    "a=[(1,2),(3,4),(5,6)]\n",
    "for (a, b) in a:\n",
    "    print(a + b)"
   ]
  },
  {
   "cell_type": "code",
   "execution_count": 11,
   "metadata": {},
   "outputs": [
    {
     "name": "stdout",
     "output_type": "stream",
     "text": [
      "1번 학생은 합격입니다.\n",
      "2번 학생은 합격입니다.\n",
      "3번 학생은 불합격입니다.\n",
      "4번 학생은 불합격입니다.\n",
      "5번 학생은 합격입니다.\n"
     ]
    }
   ],
   "source": [
    "marks = [90, 85, 30, 55, 62]\n",
    "number=0\n",
    "for mark in marks:\n",
    "    number=number+1\n",
    "    if mark >= 60:\n",
    "        print('%d번 학생은 합격입니다.' % number)\n",
    "    else:\n",
    "        print('%d번 학생은 불합격입니다.' % number)"
   ]
  },
  {
   "cell_type": "code",
   "execution_count": 13,
   "metadata": {},
   "outputs": [
    {
     "name": "stdout",
     "output_type": "stream",
     "text": [
      "1번 학생은 합격입니다\n",
      "2번 학생은 합격입니다\n",
      "5번 학생은 합격입니다\n"
     ]
    }
   ],
   "source": [
    "number=0\n",
    "for mark in marks:\n",
    "    number=number+1\n",
    "    if mark < 60: continue\n",
    "    print('%d번 학생은 합격입니다' % number)"
   ]
  },
  {
   "cell_type": "code",
   "execution_count": 11,
   "metadata": {},
   "outputs": [
    {
     "name": "stdout",
     "output_type": "stream",
     "text": [
      "1번 학생은 합격입니다\n",
      "3번 학생은 합격입니다\n",
      "5번 학생은 합격입니다\n"
     ]
    }
   ],
   "source": [
    "number=0\n",
    "for mark in marks:\n",
    "    number=number+1\n",
    "    if mark < 60: continue\n",
    "    print('{0}번 학생은 합격입니다' .format(number))"
   ]
  },
  {
   "cell_type": "code",
   "execution_count": 10,
   "metadata": {},
   "outputs": [
    {
     "name": "stdout",
     "output_type": "stream",
     "text": [
      "1번 학생 축하합니다. 합격입니다.\n",
      "3번 학생 축하합니다. 합격입니다.\n",
      "5번 학생 축하합니다. 합격입니다.\n"
     ]
    }
   ],
   "source": [
    "marks=[90,25,67,45,80]\n",
    "for number in range(len(marks)):\n",
    "    if marks[number] < 60: continue\n",
    "    print('%d번 학생 축하합니다. 합격입니다.' % (number+1))"
   ]
  },
  {
   "cell_type": "code",
   "execution_count": 5,
   "metadata": {},
   "outputs": [],
   "source": [
    "a=range(11)"
   ]
  },
  {
   "cell_type": "code",
   "execution_count": 6,
   "metadata": {},
   "outputs": [
    {
     "name": "stdout",
     "output_type": "stream",
     "text": [
      "0\n",
      "1\n",
      "3\n",
      "6\n",
      "10\n",
      "15\n",
      "21\n",
      "28\n",
      "36\n",
      "45\n",
      "55\n"
     ]
    }
   ],
   "source": [
    "sum=0\n",
    "for i in a:\n",
    "    sum=sum+i\n",
    "    print(sum)"
   ]
  },
  {
   "cell_type": "code",
   "execution_count": 7,
   "metadata": {},
   "outputs": [
    {
     "name": "stdout",
     "output_type": "stream",
     "text": [
      "1\n",
      "3\n",
      "6\n",
      "10\n",
      "15\n",
      "21\n",
      "28\n",
      "36\n",
      "45\n",
      "55\n"
     ]
    }
   ],
   "source": [
    "sum=0\n",
    "for i in range(1,11):\n",
    "    sum=sum+i\n",
    "    print(sum)"
   ]
  },
  {
   "cell_type": "code",
   "execution_count": 12,
   "metadata": {},
   "outputs": [],
   "source": [
    "a='htdhk'"
   ]
  },
  {
   "cell_type": "code",
   "execution_count": 15,
   "metadata": {},
   "outputs": [
    {
     "ename": "ValueError",
     "evalue": "substring not found",
     "output_type": "error",
     "traceback": [
      "\u001b[1;31m---------------------------------------------------------------------------\u001b[0m",
      "\u001b[1;31mValueError\u001b[0m                                Traceback (most recent call last)",
      "\u001b[1;32m<ipython-input-15-34178db2eae3>\u001b[0m in \u001b[0;36m<module>\u001b[1;34m()\u001b[0m\n\u001b[1;32m----> 1\u001b[1;33m \u001b[0ma\u001b[0m\u001b[1;33m.\u001b[0m\u001b[0mindex\u001b[0m\u001b[1;33m(\u001b[0m\u001b[1;34m'c'\u001b[0m\u001b[1;33m)\u001b[0m\u001b[1;33m\u001b[0m\u001b[0m\n\u001b[0m",
      "\u001b[1;31mValueError\u001b[0m: substring not found"
     ]
    }
   ],
   "source": [
    "a.index('c')"
   ]
  },
  {
   "cell_type": "code",
   "execution_count": 16,
   "metadata": {},
   "outputs": [
    {
     "data": {
      "text/plain": [
       "-1"
      ]
     },
     "execution_count": 16,
     "metadata": {},
     "output_type": "execute_result"
    }
   ],
   "source": [
    "a.find('c')"
   ]
  },
  {
   "cell_type": "code",
   "execution_count": 20,
   "metadata": {},
   "outputs": [
    {
     "data": {
      "text/plain": [
       "'10203'"
      ]
     },
     "execution_count": 20,
     "metadata": {},
     "output_type": "execute_result"
    }
   ],
   "source": [
    "a='0'\n",
    "a.join('123')"
   ]
  },
  {
   "cell_type": "code",
   "execution_count": 21,
   "metadata": {},
   "outputs": [
    {
     "data": {
      "text/plain": [
       "['dsf', 'sgjt', 'tsgk']"
      ]
     },
     "execution_count": 21,
     "metadata": {},
     "output_type": "execute_result"
    }
   ],
   "source": [
    "a='dsf sgjt tsgk'\n",
    "a.split()"
   ]
  },
  {
   "cell_type": "code",
   "execution_count": 22,
   "metadata": {},
   "outputs": [
    {
     "name": "stdout",
     "output_type": "stream",
     "text": [
      "택시\n"
     ]
    }
   ],
   "source": [
    "money=5000\n",
    "if money >= 3000:\n",
    "    print('택시')\n",
    "else:\n",
    "    print('걷기')"
   ]
  },
  {
   "cell_type": "code",
   "execution_count": 24,
   "metadata": {},
   "outputs": [
    {
     "name": "stdout",
     "output_type": "stream",
     "text": [
      "택시\n"
     ]
    }
   ],
   "source": [
    "pocket=['money', 'phone', 'card']\n",
    "if 'card' or 'money' in pocket:\n",
    "    print('택시')\n",
    "elif 'phone':\n",
    "    print('통화')\n",
    "else:\n",
    "    print('걷기')"
   ]
  },
  {
   "cell_type": "code",
   "execution_count": 25,
   "metadata": {},
   "outputs": [],
   "source": [
    "regions=[('Northeast', 55.3),('Midwest', 66.9),('South', 114.),('West', 71.9)]"
   ]
  },
  {
   "cell_type": "raw",
   "metadata": {},
   "source": [
    "   - The population of the Northeath is 55.3 million.\n",
    "   - The population of the midwest is 66.9 million.\n",
    "   - The population of the South is 114.6 million.\n",
    "   - The population of the West is 71.9 million.\n",
    "   - The total population of USA is 308.7 million."
   ]
  },
  {
   "cell_type": "code",
   "execution_count": 30,
   "metadata": {},
   "outputs": [
    {
     "name": "stdout",
     "output_type": "stream",
     "text": [
      "The population of Northeast is 55.3 million\n"
     ]
    }
   ],
   "source": [
    "print('The population of {0} is {1} million' .format(regions[0][0],regions[0][1]))"
   ]
  },
  {
   "cell_type": "code",
   "execution_count": 32,
   "metadata": {},
   "outputs": [
    {
     "name": "stdout",
     "output_type": "stream",
     "text": [
      "The population of Northeast is 55.3 million\n"
     ]
    }
   ],
   "source": [
    "print('The population of {region} is {pop} million' .format(region=regions[0][0],pop=regions[0][1]))"
   ]
  },
  {
   "cell_type": "markdown",
   "metadata": {},
   "source": [
    "- GPA >= 4.3\n",
    "    - 최우수졸업생\n",
    "- GPA >= 4.0\n",
    "    - 우수졸업생\n",
    "- GPA >= 2.5\n",
    "    - 졸업생\n",
    "### 내 학점을 실수로 가지고 있는 변수 my_gpa를 생성하고 임의의 학점을 할당하시오.\n",
    "### 예를 들어, 만일 my_gpa값이 4.15이면 다음과 같이 출력이 되도록 프로그램을 작성하시오.\n",
    "    - 당신의 학점은 4.15 입니다.\n",
    "    - 당신은 우수졸업생입니다."
   ]
  },
  {
   "cell_type": "code",
   "execution_count": 34,
   "metadata": {},
   "outputs": [
    {
     "name": "stdout",
     "output_type": "stream",
     "text": [
      "당신의 학점은 4.0 입니다.\n",
      "당신은 우수졸업생입니다.\n"
     ]
    }
   ],
   "source": [
    "my_gpa = 4.0\n",
    "if my_gpa >= 4.3:\n",
    "    print(\"당신의 학점은 %d 입니다.\" % my_gpa)\n",
    "    print(\"당신은 최우수졸업생입니다.\")\n",
    "elif my_gpa >= 4.0:\n",
    "    print(\"당신의 학점은 {0} 입니다.\" .format(my_gpa))\n",
    "    print(\"당신은 우수졸업생입니다.\")\n",
    "else:\n",
    "    print(\"당신은 졸업생입니다.\")"
   ]
  },
  {
   "cell_type": "code",
   "execution_count": 35,
   "metadata": {},
   "outputs": [
    {
     "name": "stdout",
     "output_type": "stream",
     "text": [
      "당신은 졸업생입니다.\n"
     ]
    }
   ],
   "source": [
    "my_gpa=float(input('학점입력: '))\n",
    "if my_gpa >= 4.3:\n",
    "    print(\"당신의 학점은 %d 입니다.\" % my_gpa)\n",
    "    print(\"당신은 최우수졸업생입니다.\")\n",
    "elif my_gpa >= 4.0:\n",
    "    print(\"당신의 학점은 {0} 입니다.\" .format(my_gpa))\n",
    "    print(\"당신은 우수졸업생입니다.\")\n",
    "else:\n",
    "    print(\"당신은 졸업생입니다.\")"
   ]
  },
  {
   "cell_type": "code",
   "execution_count": 4,
   "metadata": {},
   "outputs": [
    {
     "name": "stdout",
     "output_type": "stream",
     "text": [
      "1\n",
      "3\n",
      "5\n",
      "7\n",
      "9\n"
     ]
    }
   ],
   "source": [
    "a=0\n",
    "while a <10:\n",
    "    a=a+1\n",
    "    if a%2==0:continue\n",
    "    print(a)"
   ]
  },
  {
   "cell_type": "code",
   "execution_count": 2,
   "metadata": {},
   "outputs": [
    {
     "name": "stdout",
     "output_type": "stream",
     "text": [
      "1\n",
      "3\n",
      "5\n",
      "7\n",
      "9\n"
     ]
    }
   ],
   "source": [
    "a = 0\n",
    "while a < 10:\n",
    "    a = a + 1\n",
    "    if a % 2 == 0: continue\n",
    "    print(a)"
   ]
  },
  {
   "cell_type": "code",
   "execution_count": 38,
   "metadata": {},
   "outputs": [
    {
     "name": "stdout",
     "output_type": "stream",
     "text": [
      "나무를 1번 찍었습니다.\n",
      "나무를 2번 찍었습니다.\n",
      "나무를 3번 찍었습니다.\n",
      "나무를 4번 찍었습니다.\n",
      "나무를 5번 찍었습니다.\n",
      "나무를 6번 찍었습니다.\n",
      "나무를 7번 찍었습니다.\n",
      "나무를 8번 찍었습니다.\n",
      "나무를 9번 찍었습니다.\n",
      "나무를 10번 찍었습니다.\n",
      "나무 넘어갑니다\n"
     ]
    }
   ],
   "source": [
    "treehit=0\n",
    "while treehit < 10:\n",
    "    treehit=treehit+1\n",
    "    print('나무를 %d번 찍었습니다.' % treehit)\n",
    "    if treehit == 10:\n",
    "        print('나무 넘어갑니다')"
   ]
  },
  {
   "cell_type": "code",
   "execution_count": 39,
   "metadata": {},
   "outputs": [],
   "source": [
    "prompt=\"\"\"\n",
    "1. 바보\n",
    "2. 이바보\n",
    "3. 에바보\n",
    "4. 나가기\n",
    "\"\"\""
   ]
  },
  {
   "cell_type": "code",
   "execution_count": 42,
   "metadata": {},
   "outputs": [
    {
     "name": "stdout",
     "output_type": "stream",
     "text": [
      "\n",
      "1. 바보\n",
      "2. 이바보\n",
      "3. 에바보\n",
      "4. 나가기\n",
      "\n",
      "\n",
      "1. 바보\n",
      "2. 이바보\n",
      "3. 에바보\n",
      "4. 나가기\n",
      "\n"
     ]
    }
   ],
   "source": [
    "number=0\n",
    "while number != 4:\n",
    "    print(prompt)\n",
    "    number=int(input('입력: '))"
   ]
  },
  {
   "cell_type": "code",
   "execution_count": 1,
   "metadata": {},
   "outputs": [
    {
     "name": "stdout",
     "output_type": "stream",
     "text": [
      "돈을 받았습니다\n",
      "남은 커피는 9잔 남았습니다.\n",
      "돈을 받았습니다\n",
      "남은 커피는 8잔 남았습니다.\n",
      "돈을 받았습니다\n",
      "남은 커피는 7잔 남았습니다.\n",
      "돈을 받았습니다\n",
      "남은 커피는 6잔 남았습니다.\n",
      "돈을 받았습니다\n",
      "남은 커피는 5잔 남았습니다.\n",
      "돈을 받았습니다\n",
      "남은 커피는 4잔 남았습니다.\n",
      "돈을 받았습니다\n",
      "남은 커피는 3잔 남았습니다.\n",
      "돈을 받았습니다\n",
      "남은 커피는 2잔 남았습니다.\n",
      "돈을 받았습니다\n",
      "남은 커피는 1잔 남았습니다.\n",
      "돈을 받았습니다\n",
      "남은 커피는 0잔 남았습니다.\n",
      "커피가 없습니다\n"
     ]
    }
   ],
   "source": [
    "coffee=10\n",
    "money=300\n",
    "while money:\n",
    "    print('돈을 받았습니다')\n",
    "    coffee=coffee-1\n",
    "    print('남은 커피는 %d잔 남았습니다.' % coffee)\n",
    "    if coffee ==0:\n",
    "        print('커피가 없습니다')\n",
    "        break"
   ]
  },
  {
   "cell_type": "code",
   "execution_count": 6,
   "metadata": {},
   "outputs": [
    {
     "name": "stdout",
     "output_type": "stream",
     "text": [
      "a\n",
      "b\n",
      "c\n"
     ]
    }
   ],
   "source": [
    "a=['a','b','c']\n",
    "for i in a:\n",
    "    print(i)"
   ]
  },
  {
   "cell_type": "code",
   "execution_count": 10,
   "metadata": {},
   "outputs": [
    {
     "name": "stdout",
     "output_type": "stream",
     "text": [
      "1번 학생의 점수는 90입니다.\n",
      "합격입니다.\n",
      "2번 학생의 점수는 37점 입니다.\n",
      "불합격입니다.\n",
      "3번 학생의 점수는 40점 입니다.\n",
      "불합격입니다.\n",
      "4번 학생의 점수는 80입니다.\n",
      "합격입니다.\n"
     ]
    }
   ],
   "source": [
    "number=0\n",
    "marks=[90,37,40,80]\n",
    "for mark in marks:\n",
    "    number=number+1\n",
    "    if mark >=60:\n",
    "        print('{0}번 학생의 점수는 {1}입니다.' .format(number,mark))\n",
    "        print('합격입니다.')\n",
    "    else:\n",
    "        print('{0}번 학생의 점수는 {1}점 입니다.' .format(number,mark))\n",
    "        print('불합격입니다.')"
   ]
  },
  {
   "cell_type": "code",
   "execution_count": 11,
   "metadata": {},
   "outputs": [
    {
     "name": "stdout",
     "output_type": "stream",
     "text": [
      "1번 학생의 점수는 90입니다.\n",
      "합격입니다.\n",
      "4번 학생의 점수는 80입니다.\n",
      "합격입니다.\n"
     ]
    }
   ],
   "source": [
    "number=0\n",
    "marks=[90,37,40,80]\n",
    "for mark in marks:\n",
    "    number=number+1\n",
    "    if mark >=60:\n",
    "        print('{0}번 학생의 점수는 {1}입니다.' .format(number,mark))\n",
    "        print('합격입니다.')\n",
    "    else:pass"
   ]
  },
  {
   "cell_type": "code",
   "execution_count": 12,
   "metadata": {},
   "outputs": [
    {
     "name": "stdout",
     "output_type": "stream",
     "text": [
      "2번 학생의 점수는 37점 입니다.\n",
      "불합격입니다.\n",
      "3번 학생의 점수는 40점 입니다.\n",
      "불합격입니다.\n"
     ]
    }
   ],
   "source": [
    "number=0\n",
    "marks=[90,37,40,80]\n",
    "for mark in marks:\n",
    "    number=number+1\n",
    "    if mark >=60:\n",
    "        pass\n",
    "    else:\n",
    "        print('{0}번 학생의 점수는 {1}점 입니다.' .format(number,mark))\n",
    "        print('불합격입니다.')"
   ]
  },
  {
   "cell_type": "code",
   "execution_count": 13,
   "metadata": {},
   "outputs": [
    {
     "name": "stdout",
     "output_type": "stream",
     "text": [
      "1번 학생의 점수는 90입니다.\n",
      "합격입니다.\n",
      "4번 학생의 점수는 80입니다.\n",
      "합격입니다.\n"
     ]
    }
   ],
   "source": [
    "number=0\n",
    "marks=[90,37,40,80]\n",
    "for mark in marks:\n",
    "    number=number+1\n",
    "    if mark >=60:\n",
    "        print('{0}번 학생의 점수는 {1}입니다.' .format(number,mark))\n",
    "        print('합격입니다.')\n",
    "    else:continue"
   ]
  },
  {
   "cell_type": "code",
   "execution_count": 14,
   "metadata": {},
   "outputs": [
    {
     "name": "stdout",
     "output_type": "stream",
     "text": [
      "2번 학생의 점수는 37점 입니다.\n",
      "불합격입니다.\n",
      "3번 학생의 점수는 40점 입니다.\n",
      "불합격입니다.\n"
     ]
    }
   ],
   "source": [
    "number=0\n",
    "marks=[90,37,40,80]\n",
    "for mark in marks:\n",
    "    number=number+1\n",
    "    if mark >=60:continue\n",
    "    else:\n",
    "        print('{0}번 학생의 점수는 {1}점 입니다.' .format(number,mark))\n",
    "        print('불합격입니다.')"
   ]
  },
  {
   "cell_type": "code",
   "execution_count": 15,
   "metadata": {},
   "outputs": [
    {
     "name": "stdout",
     "output_type": "stream",
     "text": [
      "2번 학생의 점수는 37점 입니다.\n",
      "불합격입니다.\n",
      "3번 학생의 점수는 40점 입니다.\n",
      "불합격입니다.\n"
     ]
    }
   ],
   "source": [
    "number=0\n",
    "marks=[90,37,40,80]\n",
    "for mark in marks:\n",
    "    number=number+1\n",
    "    if mark >=60:continue\n",
    "    print('{0}번 학생의 점수는 {1}점 입니다.' .format(number,mark))\n",
    "    print('불합격입니다.')"
   ]
  },
  {
   "cell_type": "code",
   "execution_count": 16,
   "metadata": {},
   "outputs": [
    {
     "data": {
      "text/plain": [
       "range(0, 10)"
      ]
     },
     "execution_count": 16,
     "metadata": {},
     "output_type": "execute_result"
    }
   ],
   "source": [
    "range(10)"
   ]
  },
  {
   "cell_type": "code",
   "execution_count": 17,
   "metadata": {},
   "outputs": [
    {
     "data": {
      "text/plain": [
       "6"
      ]
     },
     "execution_count": 17,
     "metadata": {},
     "output_type": "execute_result"
    }
   ],
   "source": [
    "len(range(6))"
   ]
  },
  {
   "cell_type": "code",
   "execution_count": 18,
   "metadata": {},
   "outputs": [
    {
     "name": "stdout",
     "output_type": "stream",
     "text": [
      "0\n",
      "1\n",
      "2\n",
      "3\n",
      "4\n"
     ]
    }
   ],
   "source": [
    "for i in range(5):\n",
    "    print(i)"
   ]
  },
  {
   "cell_type": "code",
   "execution_count": 24,
   "metadata": {},
   "outputs": [
    {
     "name": "stdout",
     "output_type": "stream",
     "text": [
      "1번 학생의 점수는 90입니다.\n",
      "합격입니다.\n",
      "4번 학생의 점수는 80입니다.\n",
      "합격입니다.\n"
     ]
    }
   ],
   "source": [
    "marks=[90,37,40,80]\n",
    "for number in range(len(marks)):\n",
    "    if marks[number] >=60:\n",
    "        print('{0}번 학생의 점수는 {1}입니다.' .format(number+1,marks[number]))\n",
    "        print('합격입니다.')"
   ]
  },
  {
   "cell_type": "code",
   "execution_count": null,
   "metadata": {},
   "outputs": [],
   "source": []
  }
 ],
 "metadata": {
  "kernelspec": {
   "display_name": "Python 3",
   "language": "python",
   "name": "python3"
  },
  "language_info": {
   "codemirror_mode": {
    "name": "ipython",
    "version": 3
   },
   "file_extension": ".py",
   "mimetype": "text/x-python",
   "name": "python",
   "nbconvert_exporter": "python",
   "pygments_lexer": "ipython3",
   "version": "3.6.4"
  }
 },
 "nbformat": 4,
 "nbformat_minor": 2
}
