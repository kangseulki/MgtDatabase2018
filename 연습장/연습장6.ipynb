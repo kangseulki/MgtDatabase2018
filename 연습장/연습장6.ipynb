{
 "cells": [
  {
   "cell_type": "code",
   "execution_count": 1,
   "metadata": {},
   "outputs": [],
   "source": [
    "a=[1,2,3]"
   ]
  },
  {
   "cell_type": "code",
   "execution_count": 2,
   "metadata": {},
   "outputs": [],
   "source": [
    "b=[1,2,3]"
   ]
  },
  {
   "cell_type": "code",
   "execution_count": 13,
   "metadata": {},
   "outputs": [
    {
     "name": "stdout",
     "output_type": "stream",
     "text": [
      "같지 않다\n"
     ]
    }
   ],
   "source": [
    "if a==b:\n",
    "    print('같지 않다')\n",
    "else:\n",
    "    print('같다')"
   ]
  },
  {
   "cell_type": "code",
   "execution_count": 15,
   "metadata": {},
   "outputs": [
    {
     "data": {
      "text/plain": [
       "False"
      ]
     },
     "execution_count": 15,
     "metadata": {},
     "output_type": "execute_result"
    }
   ],
   "source": [
    "a!=b"
   ]
  },
  {
   "cell_type": "code",
   "execution_count": 16,
   "metadata": {},
   "outputs": [
    {
     "name": "stdout",
     "output_type": "stream",
     "text": [
      "택시\n"
     ]
    }
   ],
   "source": [
    "money=2000\n",
    "card=1\n",
    "if card or money >=4000:\n",
    "    print('택시')\n",
    "else:\n",
    "    print(걸어)"
   ]
  },
  {
   "cell_type": "code",
   "execution_count": 21,
   "metadata": {},
   "outputs": [
    {
     "name": "stdout",
     "output_type": "stream",
     "text": [
      "걸어\n"
     ]
    }
   ],
   "source": [
    "card=1\n",
    "money=4000\n",
    "if card==1 and money==4000:\n",
    "    print('걸어')\n",
    "else:\n",
    "    print('타')"
   ]
  },
  {
   "cell_type": "code",
   "execution_count": 22,
   "metadata": {},
   "outputs": [
    {
     "name": "stdout",
     "output_type": "stream",
     "text": [
      "걸어\n"
     ]
    }
   ],
   "source": [
    "card=1\n",
    "money=4000\n",
    "if not card==2:\n",
    "    print('걸어')\n",
    "else:\n",
    "    print('타')"
   ]
  },
  {
   "cell_type": "code",
   "execution_count": 23,
   "metadata": {},
   "outputs": [],
   "source": [
    "a=[1,2,3,4]"
   ]
  },
  {
   "cell_type": "code",
   "execution_count": 24,
   "metadata": {},
   "outputs": [
    {
     "data": {
      "text/plain": [
       "False"
      ]
     },
     "execution_count": 24,
     "metadata": {},
     "output_type": "execute_result"
    }
   ],
   "source": [
    "5 in a"
   ]
  },
  {
   "cell_type": "code",
   "execution_count": 25,
   "metadata": {},
   "outputs": [
    {
     "name": "stdout",
     "output_type": "stream",
     "text": [
      "타\n"
     ]
    }
   ],
   "source": [
    "pocket = ['card', 'money', 'phone']\n",
    "if 'card' in pocket:\n",
    "    print('타')\n",
    "else:\n",
    "    print('걸어')"
   ]
  },
  {
   "cell_type": "code",
   "execution_count": 26,
   "metadata": {},
   "outputs": [
    {
     "name": "stdout",
     "output_type": "stream",
     "text": [
      "타\n"
     ]
    }
   ],
   "source": [
    "pocket = ['card', 'money', 'phone']\n",
    "if not[] in pocket:\n",
    "    print('타')\n",
    "else:\n",
    "    print('걸어')"
   ]
  },
  {
   "cell_type": "code",
   "execution_count": 27,
   "metadata": {},
   "outputs": [],
   "source": [
    "pocket = ['card', 'money', 'phone']\n",
    "if 'card' in pocket:\n",
    "    pass\n",
    "else:\n",
    "    print('걸어')"
   ]
  },
  {
   "cell_type": "code",
   "execution_count": 28,
   "metadata": {},
   "outputs": [
    {
     "name": "stdout",
     "output_type": "stream",
     "text": [
      "타\n"
     ]
    }
   ],
   "source": [
    "pocket = ['card', 'money', 'phone']\n",
    "if 'card' in pocket:\n",
    "    print('타')\n",
    "else:\n",
    "    if 'money' in pocket:\n",
    "        print('고민좀')\n",
    "    else:\n",
    "        print('걸어')"
   ]
  },
  {
   "cell_type": "code",
   "execution_count": 29,
   "metadata": {},
   "outputs": [
    {
     "name": "stdout",
     "output_type": "stream",
     "text": [
      "고민좀\n"
     ]
    }
   ],
   "source": [
    "pocket = ['money', 'phone']\n",
    "if 'card' in pocket:\n",
    "    print('타')\n",
    "else:\n",
    "    if 'money' in pocket:\n",
    "        print('고민좀')\n",
    "    else:\n",
    "        print('걸어')"
   ]
  },
  {
   "cell_type": "code",
   "execution_count": 30,
   "metadata": {},
   "outputs": [
    {
     "name": "stdout",
     "output_type": "stream",
     "text": [
      "고민좀\n"
     ]
    }
   ],
   "source": [
    "pocket = ['money', 'phone']\n",
    "if 'card' in pocket:\n",
    "    print('타')\n",
    "elif 'money' in pocket:\n",
    "    print('고민좀')\n",
    "else:\n",
    "    print('걸어')"
   ]
  },
  {
   "cell_type": "code",
   "execution_count": 31,
   "metadata": {},
   "outputs": [
    {
     "name": "stdout",
     "output_type": "stream",
     "text": [
      "타\n"
     ]
    }
   ],
   "source": [
    "pocket = ['card', 'money', 'phone']\n",
    "if 'card' in pocket:\n",
    "    print('타')\n",
    "else:\n",
    "    if 'money':\n",
    "        print('고민좀')\n",
    "    else:\n",
    "        print('걸어')"
   ]
  },
  {
   "cell_type": "code",
   "execution_count": 32,
   "metadata": {},
   "outputs": [],
   "source": [
    "pocket=['card', 'money']"
   ]
  },
  {
   "cell_type": "code",
   "execution_count": 33,
   "metadata": {},
   "outputs": [],
   "source": [
    "if 'card' in pocket: pass\n",
    "else: print('뛰어')"
   ]
  },
  {
   "cell_type": "code",
   "execution_count": 34,
   "metadata": {},
   "outputs": [
    {
     "name": "stdout",
     "output_type": "stream",
     "text": [
      "뛰어\n"
     ]
    }
   ],
   "source": [
    "if 'phone' in pocket: pass\n",
    "else: print('뛰어')"
   ]
  },
  {
   "cell_type": "code",
   "execution_count": 41,
   "metadata": {},
   "outputs": [],
   "source": [
    "score = 55\n",
    "if score == 60: \n",
    "    message='success'\n",
    "else:\n",
    "    message='failure'"
   ]
  },
  {
   "cell_type": "code",
   "execution_count": 40,
   "metadata": {},
   "outputs": [
    {
     "name": "stdout",
     "output_type": "stream",
     "text": [
      "again\n"
     ]
    }
   ],
   "source": [
    "score = 55\n",
    "if score == 60: \n",
    "    print('pass')\n",
    "else:\n",
    "    print('again')"
   ]
  },
  {
   "cell_type": "code",
   "execution_count": 42,
   "metadata": {},
   "outputs": [
    {
     "data": {
      "text/plain": [
       "'failure'"
      ]
     },
     "execution_count": 42,
     "metadata": {},
     "output_type": "execute_result"
    }
   ],
   "source": [
    "message"
   ]
  },
  {
   "cell_type": "code",
   "execution_count": 43,
   "metadata": {},
   "outputs": [
    {
     "name": "stdout",
     "output_type": "stream",
     "text": [
      "나무를 1번 찍습니다.\n",
      "나무를 2번 찍습니다.\n",
      "나무를 3번 찍습니다.\n",
      "나무를 4번 찍습니다.\n",
      "나무를 5번 찍습니다.\n",
      "나무를 6번 찍습니다.\n",
      "나무를 7번 찍습니다.\n",
      "나무를 8번 찍습니다.\n",
      "나무를 9번 찍습니다.\n",
      "나무를 10번 찍습니다.\n",
      "나무 넘어갑니다\n"
     ]
    }
   ],
   "source": [
    "treehit=0\n",
    "while treehit < 10:\n",
    "    treehit = treehit+1\n",
    "    print('나무를 %d번 찍습니다.' % treehit)\n",
    "    if treehit == 10:\n",
    "        print('나무 넘어갑니다')"
   ]
  },
  {
   "cell_type": "code",
   "execution_count": 44,
   "metadata": {},
   "outputs": [
    {
     "name": "stdout",
     "output_type": "stream",
     "text": [
      "4\n",
      "3\n",
      "2\n",
      "1\n"
     ]
    }
   ],
   "source": [
    "a=[1,2,3,4]\n",
    "while a:\n",
    "    print(a.pop())"
   ]
  },
  {
   "cell_type": "code",
   "execution_count": 45,
   "metadata": {},
   "outputs": [
    {
     "name": "stdout",
     "output_type": "stream",
     "text": [
      "너의 이름은 비비이다.\n"
     ]
    }
   ],
   "source": [
    "a='비비'\n",
    "print('너의 이름은 %s이다.' % a)"
   ]
  },
  {
   "cell_type": "code",
   "execution_count": 51,
   "metadata": {},
   "outputs": [
    {
     "name": "stdout",
     "output_type": "stream",
     "text": [
      "나무를 1번 찍었습니다.\n",
      "나무를 2번 찍었습니다.\n",
      "나무를 3번 찍었습니다.\n",
      "나무를 4번 찍었습니다.\n",
      "나무를 5번 찍었습니다.\n",
      "나무를 6번 찍었습니다.\n",
      "나무를 7번 찍었습니다.\n",
      "나무를 8번 찍었습니다.\n",
      "나무 넘어갑니다\n"
     ]
    }
   ],
   "source": [
    "treehit=0\n",
    "while treehit < 8:\n",
    "    treehit = treehit + 1\n",
    "    print('나무를 %d번 찍었습니다.' % treehit)\n",
    "    if treehit == 8:\n",
    "        print('나무 넘어갑니다')"
   ]
  },
  {
   "cell_type": "code",
   "execution_count": null,
   "metadata": {},
   "outputs": [],
   "source": [
    "prompt =\"\"\"\n",
    "1. add\n",
    "2. del\n",
    "3. list\n",
    "enter number: \"\"\""
   ]
  },
  {
   "cell_type": "code",
   "execution_count": null,
   "metadata": {},
   "outputs": [],
   "source": [
    "number=0\n",
    "while number !=4:\n",
    "    print(prompt)\n",
    "    number=int(input())"
   ]
  },
  {
   "cell_type": "code",
   "execution_count": null,
   "metadata": {},
   "outputs": [],
   "source": []
  },
  {
   "cell_type": "code",
   "execution_count": null,
   "metadata": {},
   "outputs": [],
   "source": []
  },
  {
   "cell_type": "code",
   "execution_count": null,
   "metadata": {},
   "outputs": [],
   "source": []
  },
  {
   "cell_type": "code",
   "execution_count": null,
   "metadata": {},
   "outputs": [],
   "source": []
  },
  {
   "cell_type": "code",
   "execution_count": null,
   "metadata": {},
   "outputs": [],
   "source": []
  },
  {
   "cell_type": "code",
   "execution_count": null,
   "metadata": {},
   "outputs": [],
   "source": []
  }
 ],
 "metadata": {
  "kernelspec": {
   "display_name": "Python 3",
   "language": "python",
   "name": "python3"
  },
  "language_info": {
   "codemirror_mode": {
    "name": "ipython",
    "version": 3
   },
   "file_extension": ".py",
   "mimetype": "text/x-python",
   "name": "python",
   "nbconvert_exporter": "python",
   "pygments_lexer": "ipython3",
   "version": "3.6.4"
  }
 },
 "nbformat": 4,
 "nbformat_minor": 2
}
